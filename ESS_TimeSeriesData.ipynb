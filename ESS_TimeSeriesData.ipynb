{
  "nbformat": 4,
  "nbformat_minor": 0,
  "metadata": {
    "colab": {
      "provenance": []
    },
    "kernelspec": {
      "name": "python3",
      "display_name": "Python 3"
    },
    "language_info": {
      "name": "python"
    },
    "accelerator": "GPU",
    "gpuClass": "standard"
  },
  "cells": [
    {
      "cell_type": "markdown",
      "source": [
        "Name: Shrinath Mishra\n",
        "\n",
        "# **Problem Statement:**\n",
        "**Building a new Employee Security System**\n",
        "You, as the Security analyst, at Stark Industries, have been tasked to build a new contactless employee check-in system. Currently the employees use a physical keycard for entry into the building like shown below. \n",
        "\n",
        "You have come up with a new idea that uses the employees smartphone and machine learning to provide a contactless system where when an employee enters the firm’s territory, his or her smartphone connects to the server and transmits data from the employee smartphone sensor data like the accelerometer's data. The server performs the calculations and determines this person as\n",
        "one of the employees using Gait analysis. Essentially it compares the current pattern of the employee’s gait with the historial pattern and if there is a match, the doors automatically open for the employee to walk in.\n",
        "\n",
        "To test your idea, you have built a dataset of 30 employees and their daily activities here. Design and develop a system that will perform the gait analysis. "
      ],
      "metadata": {
        "id": "Db3X9hQqHv_k"
      }
    },
    {
      "cell_type": "markdown",
      "source": [
        "In the given problem statement, we will analyse the 30 employees first on the basis of their daily activities with some pattern. We can name these patterns as the activity labels. There are 6 main patterns in the activity labels as follows:\n",
        "1. WALKING\n",
        "2. WALKING_UPSTAIRS\n",
        "3. WALKING_DOWNSTAIRS\n",
        "4. SITTING\n",
        "5. STANDING\n",
        "6. LAYING\n",
        "\n",
        "The smartphone with sensors like Accelerometer and Gyroscope will store data of these 6 activity labels. We will then build a machine learning model that will analyse and identify the patterns of an individual and can predict if the person is among the 30 employees that we have registered. \n",
        "\n",
        "We will consider different machine learning models that will assist us with their respective accuracies and prediction score, through which we can choose which model has the best accuracy and the prediction score and then proceed ahead to deploy that model into a proper security system.\n",
        "\n"
      ],
      "metadata": {
        "id": "4l-aX_DiIEE9"
      }
    },
    {
      "cell_type": "markdown",
      "source": [
        "# **GAIT Analysis**\n",
        "\n",
        "Gait Analysis is an assessment of the way the body moves from one place to another. In our problem statement through GAIT Analysis, a reliable and precise form of data is stored of an individual while performing their usual activities.\n",
        "\n",
        "<p align=\"left\">\n",
        "  <img width=\"600\" height=\"325\" src=\"https://blogs.mathworks.com/cleve/files/walker.gif\">\n",
        "</p>"
      ],
      "metadata": {
        "id": "DSjI3g4tIIYz"
      }
    },
    {
      "cell_type": "markdown",
      "source": [],
      "metadata": {
        "id": "H5X1SsoSIPfu"
      }
    },
    {
      "cell_type": "code",
      "execution_count": null,
      "metadata": {
        "id": "zEqOo4nHFCrf",
        "colab": {
          "base_uri": "https://localhost:8080/"
        },
        "outputId": "383ddc5b-7c33-4f51-8b34-7620bf665cf4"
      },
      "outputs": [
        {
          "output_type": "stream",
          "name": "stdout",
          "text": [
            "Mounted at /content/gdrive\n"
          ]
        }
      ],
      "source": [
        "from google.colab import drive\n",
        "\n",
        "drive.mount(\"/content/gdrive\")"
      ]
    },
    {
      "cell_type": "code",
      "source": [
        "%cd /content/gdrive/MyDrive/Employee_Security_System"
      ],
      "metadata": {
        "colab": {
          "base_uri": "https://localhost:8080/"
        },
        "id": "Jtl-EE44FT2Q",
        "outputId": "f759d709-a722-461f-f1a5-dc658c021a81"
      },
      "execution_count": null,
      "outputs": [
        {
          "output_type": "stream",
          "name": "stdout",
          "text": [
            "/content/gdrive/MyDrive/Employee_Security_System\n"
          ]
        }
      ]
    },
    {
      "cell_type": "code",
      "source": [
        "import os\n",
        "\n",
        "if not os.path.isdir(\"Employee_Security_System\"):\n",
        "  os.makedirs(\"Employee_Security_System\") "
      ],
      "metadata": {
        "id": "Sm_reWxDFlTP"
      },
      "execution_count": null,
      "outputs": []
    },
    {
      "cell_type": "code",
      "source": [
        "!unzip \"/content/gdrive/MyDrive/Employee_Security_System/UCI HAR Dataset.zip\""
      ],
      "metadata": {
        "colab": {
          "base_uri": "https://localhost:8080/"
        },
        "id": "eornSo46Feex",
        "outputId": "3beccb07-c6ac-40fa-8e3f-00f52d7c335e"
      },
      "execution_count": null,
      "outputs": [
        {
          "output_type": "stream",
          "name": "stdout",
          "text": [
            "Archive:  /content/gdrive/MyDrive/Employee_Security_System/UCI HAR Dataset.zip\n",
            "replace UCI HAR Dataset/.DS_Store? [y]es, [n]o, [A]ll, [N]one, [r]ename: N\n",
            "N\n"
          ]
        }
      ]
    },
    {
      "cell_type": "code",
      "source": [
        "import matplotlib.pyplot as plt\n",
        "import seaborn as sns\n",
        "import pandas as pd\n",
        "import numpy as np\n",
        "import math"
      ],
      "metadata": {
        "id": "TRiRL9Z3MB4g"
      },
      "execution_count": null,
      "outputs": []
    },
    {
      "cell_type": "code",
      "source": [
        "train_df = pd.read_csv(\"UCI HAR Dataset/train/X_train.txt\", delim_whitespace = True,names=list(range(0,561)))\n",
        "\n",
        "train_df['Subject'] = pd.read_csv(\"UCI HAR Dataset/train/subject_train.txt\", header = None, squeeze = True)\n",
        "\n",
        "train_df[\"activity\"] = pd.read_csv(\"UCI HAR Dataset/train/y_train.txt\", header = None, squeeze = True)"
      ],
      "metadata": {
        "id": "1OJPYaesQrjB"
      },
      "execution_count": null,
      "outputs": []
    },
    {
      "cell_type": "code",
      "source": [
        "features = list()\n",
        "with open(\"UCI HAR Dataset/features.txt\") as f:\n",
        "    for line in f:\n",
        "        features.append(line.split()[1])"
      ],
      "metadata": {
        "id": "o8wM2iI_QsYY"
      },
      "execution_count": null,
      "outputs": []
    },
    {
      "cell_type": "code",
      "source": [
        "features"
      ],
      "metadata": {
        "colab": {
          "base_uri": "https://localhost:8080/"
        },
        "id": "iWtMBCP3RFAo",
        "outputId": "aa7af2a2-faf7-4308-accc-4887f8816ea2"
      },
      "execution_count": null,
      "outputs": [
        {
          "output_type": "execute_result",
          "data": {
            "text/plain": [
              "['tBodyAcc-mean()-X',\n",
              " 'tBodyAcc-mean()-Y',\n",
              " 'tBodyAcc-mean()-Z',\n",
              " 'tBodyAcc-std()-X',\n",
              " 'tBodyAcc-std()-Y',\n",
              " 'tBodyAcc-std()-Z',\n",
              " 'tBodyAcc-mad()-X',\n",
              " 'tBodyAcc-mad()-Y',\n",
              " 'tBodyAcc-mad()-Z',\n",
              " 'tBodyAcc-max()-X',\n",
              " 'tBodyAcc-max()-Y',\n",
              " 'tBodyAcc-max()-Z',\n",
              " 'tBodyAcc-min()-X',\n",
              " 'tBodyAcc-min()-Y',\n",
              " 'tBodyAcc-min()-Z',\n",
              " 'tBodyAcc-sma()',\n",
              " 'tBodyAcc-energy()-X',\n",
              " 'tBodyAcc-energy()-Y',\n",
              " 'tBodyAcc-energy()-Z',\n",
              " 'tBodyAcc-iqr()-X',\n",
              " 'tBodyAcc-iqr()-Y',\n",
              " 'tBodyAcc-iqr()-Z',\n",
              " 'tBodyAcc-entropy()-X',\n",
              " 'tBodyAcc-entropy()-Y',\n",
              " 'tBodyAcc-entropy()-Z',\n",
              " 'tBodyAcc-arCoeff()-X,1',\n",
              " 'tBodyAcc-arCoeff()-X,2',\n",
              " 'tBodyAcc-arCoeff()-X,3',\n",
              " 'tBodyAcc-arCoeff()-X,4',\n",
              " 'tBodyAcc-arCoeff()-Y,1',\n",
              " 'tBodyAcc-arCoeff()-Y,2',\n",
              " 'tBodyAcc-arCoeff()-Y,3',\n",
              " 'tBodyAcc-arCoeff()-Y,4',\n",
              " 'tBodyAcc-arCoeff()-Z,1',\n",
              " 'tBodyAcc-arCoeff()-Z,2',\n",
              " 'tBodyAcc-arCoeff()-Z,3',\n",
              " 'tBodyAcc-arCoeff()-Z,4',\n",
              " 'tBodyAcc-correlation()-X,Y',\n",
              " 'tBodyAcc-correlation()-X,Z',\n",
              " 'tBodyAcc-correlation()-Y,Z',\n",
              " 'tGravityAcc-mean()-X',\n",
              " 'tGravityAcc-mean()-Y',\n",
              " 'tGravityAcc-mean()-Z',\n",
              " 'tGravityAcc-std()-X',\n",
              " 'tGravityAcc-std()-Y',\n",
              " 'tGravityAcc-std()-Z',\n",
              " 'tGravityAcc-mad()-X',\n",
              " 'tGravityAcc-mad()-Y',\n",
              " 'tGravityAcc-mad()-Z',\n",
              " 'tGravityAcc-max()-X',\n",
              " 'tGravityAcc-max()-Y',\n",
              " 'tGravityAcc-max()-Z',\n",
              " 'tGravityAcc-min()-X',\n",
              " 'tGravityAcc-min()-Y',\n",
              " 'tGravityAcc-min()-Z',\n",
              " 'tGravityAcc-sma()',\n",
              " 'tGravityAcc-energy()-X',\n",
              " 'tGravityAcc-energy()-Y',\n",
              " 'tGravityAcc-energy()-Z',\n",
              " 'tGravityAcc-iqr()-X',\n",
              " 'tGravityAcc-iqr()-Y',\n",
              " 'tGravityAcc-iqr()-Z',\n",
              " 'tGravityAcc-entropy()-X',\n",
              " 'tGravityAcc-entropy()-Y',\n",
              " 'tGravityAcc-entropy()-Z',\n",
              " 'tGravityAcc-arCoeff()-X,1',\n",
              " 'tGravityAcc-arCoeff()-X,2',\n",
              " 'tGravityAcc-arCoeff()-X,3',\n",
              " 'tGravityAcc-arCoeff()-X,4',\n",
              " 'tGravityAcc-arCoeff()-Y,1',\n",
              " 'tGravityAcc-arCoeff()-Y,2',\n",
              " 'tGravityAcc-arCoeff()-Y,3',\n",
              " 'tGravityAcc-arCoeff()-Y,4',\n",
              " 'tGravityAcc-arCoeff()-Z,1',\n",
              " 'tGravityAcc-arCoeff()-Z,2',\n",
              " 'tGravityAcc-arCoeff()-Z,3',\n",
              " 'tGravityAcc-arCoeff()-Z,4',\n",
              " 'tGravityAcc-correlation()-X,Y',\n",
              " 'tGravityAcc-correlation()-X,Z',\n",
              " 'tGravityAcc-correlation()-Y,Z',\n",
              " 'tBodyAccJerk-mean()-X',\n",
              " 'tBodyAccJerk-mean()-Y',\n",
              " 'tBodyAccJerk-mean()-Z',\n",
              " 'tBodyAccJerk-std()-X',\n",
              " 'tBodyAccJerk-std()-Y',\n",
              " 'tBodyAccJerk-std()-Z',\n",
              " 'tBodyAccJerk-mad()-X',\n",
              " 'tBodyAccJerk-mad()-Y',\n",
              " 'tBodyAccJerk-mad()-Z',\n",
              " 'tBodyAccJerk-max()-X',\n",
              " 'tBodyAccJerk-max()-Y',\n",
              " 'tBodyAccJerk-max()-Z',\n",
              " 'tBodyAccJerk-min()-X',\n",
              " 'tBodyAccJerk-min()-Y',\n",
              " 'tBodyAccJerk-min()-Z',\n",
              " 'tBodyAccJerk-sma()',\n",
              " 'tBodyAccJerk-energy()-X',\n",
              " 'tBodyAccJerk-energy()-Y',\n",
              " 'tBodyAccJerk-energy()-Z',\n",
              " 'tBodyAccJerk-iqr()-X',\n",
              " 'tBodyAccJerk-iqr()-Y',\n",
              " 'tBodyAccJerk-iqr()-Z',\n",
              " 'tBodyAccJerk-entropy()-X',\n",
              " 'tBodyAccJerk-entropy()-Y',\n",
              " 'tBodyAccJerk-entropy()-Z',\n",
              " 'tBodyAccJerk-arCoeff()-X,1',\n",
              " 'tBodyAccJerk-arCoeff()-X,2',\n",
              " 'tBodyAccJerk-arCoeff()-X,3',\n",
              " 'tBodyAccJerk-arCoeff()-X,4',\n",
              " 'tBodyAccJerk-arCoeff()-Y,1',\n",
              " 'tBodyAccJerk-arCoeff()-Y,2',\n",
              " 'tBodyAccJerk-arCoeff()-Y,3',\n",
              " 'tBodyAccJerk-arCoeff()-Y,4',\n",
              " 'tBodyAccJerk-arCoeff()-Z,1',\n",
              " 'tBodyAccJerk-arCoeff()-Z,2',\n",
              " 'tBodyAccJerk-arCoeff()-Z,3',\n",
              " 'tBodyAccJerk-arCoeff()-Z,4',\n",
              " 'tBodyAccJerk-correlation()-X,Y',\n",
              " 'tBodyAccJerk-correlation()-X,Z',\n",
              " 'tBodyAccJerk-correlation()-Y,Z',\n",
              " 'tBodyGyro-mean()-X',\n",
              " 'tBodyGyro-mean()-Y',\n",
              " 'tBodyGyro-mean()-Z',\n",
              " 'tBodyGyro-std()-X',\n",
              " 'tBodyGyro-std()-Y',\n",
              " 'tBodyGyro-std()-Z',\n",
              " 'tBodyGyro-mad()-X',\n",
              " 'tBodyGyro-mad()-Y',\n",
              " 'tBodyGyro-mad()-Z',\n",
              " 'tBodyGyro-max()-X',\n",
              " 'tBodyGyro-max()-Y',\n",
              " 'tBodyGyro-max()-Z',\n",
              " 'tBodyGyro-min()-X',\n",
              " 'tBodyGyro-min()-Y',\n",
              " 'tBodyGyro-min()-Z',\n",
              " 'tBodyGyro-sma()',\n",
              " 'tBodyGyro-energy()-X',\n",
              " 'tBodyGyro-energy()-Y',\n",
              " 'tBodyGyro-energy()-Z',\n",
              " 'tBodyGyro-iqr()-X',\n",
              " 'tBodyGyro-iqr()-Y',\n",
              " 'tBodyGyro-iqr()-Z',\n",
              " 'tBodyGyro-entropy()-X',\n",
              " 'tBodyGyro-entropy()-Y',\n",
              " 'tBodyGyro-entropy()-Z',\n",
              " 'tBodyGyro-arCoeff()-X,1',\n",
              " 'tBodyGyro-arCoeff()-X,2',\n",
              " 'tBodyGyro-arCoeff()-X,3',\n",
              " 'tBodyGyro-arCoeff()-X,4',\n",
              " 'tBodyGyro-arCoeff()-Y,1',\n",
              " 'tBodyGyro-arCoeff()-Y,2',\n",
              " 'tBodyGyro-arCoeff()-Y,3',\n",
              " 'tBodyGyro-arCoeff()-Y,4',\n",
              " 'tBodyGyro-arCoeff()-Z,1',\n",
              " 'tBodyGyro-arCoeff()-Z,2',\n",
              " 'tBodyGyro-arCoeff()-Z,3',\n",
              " 'tBodyGyro-arCoeff()-Z,4',\n",
              " 'tBodyGyro-correlation()-X,Y',\n",
              " 'tBodyGyro-correlation()-X,Z',\n",
              " 'tBodyGyro-correlation()-Y,Z',\n",
              " 'tBodyGyroJerk-mean()-X',\n",
              " 'tBodyGyroJerk-mean()-Y',\n",
              " 'tBodyGyroJerk-mean()-Z',\n",
              " 'tBodyGyroJerk-std()-X',\n",
              " 'tBodyGyroJerk-std()-Y',\n",
              " 'tBodyGyroJerk-std()-Z',\n",
              " 'tBodyGyroJerk-mad()-X',\n",
              " 'tBodyGyroJerk-mad()-Y',\n",
              " 'tBodyGyroJerk-mad()-Z',\n",
              " 'tBodyGyroJerk-max()-X',\n",
              " 'tBodyGyroJerk-max()-Y',\n",
              " 'tBodyGyroJerk-max()-Z',\n",
              " 'tBodyGyroJerk-min()-X',\n",
              " 'tBodyGyroJerk-min()-Y',\n",
              " 'tBodyGyroJerk-min()-Z',\n",
              " 'tBodyGyroJerk-sma()',\n",
              " 'tBodyGyroJerk-energy()-X',\n",
              " 'tBodyGyroJerk-energy()-Y',\n",
              " 'tBodyGyroJerk-energy()-Z',\n",
              " 'tBodyGyroJerk-iqr()-X',\n",
              " 'tBodyGyroJerk-iqr()-Y',\n",
              " 'tBodyGyroJerk-iqr()-Z',\n",
              " 'tBodyGyroJerk-entropy()-X',\n",
              " 'tBodyGyroJerk-entropy()-Y',\n",
              " 'tBodyGyroJerk-entropy()-Z',\n",
              " 'tBodyGyroJerk-arCoeff()-X,1',\n",
              " 'tBodyGyroJerk-arCoeff()-X,2',\n",
              " 'tBodyGyroJerk-arCoeff()-X,3',\n",
              " 'tBodyGyroJerk-arCoeff()-X,4',\n",
              " 'tBodyGyroJerk-arCoeff()-Y,1',\n",
              " 'tBodyGyroJerk-arCoeff()-Y,2',\n",
              " 'tBodyGyroJerk-arCoeff()-Y,3',\n",
              " 'tBodyGyroJerk-arCoeff()-Y,4',\n",
              " 'tBodyGyroJerk-arCoeff()-Z,1',\n",
              " 'tBodyGyroJerk-arCoeff()-Z,2',\n",
              " 'tBodyGyroJerk-arCoeff()-Z,3',\n",
              " 'tBodyGyroJerk-arCoeff()-Z,4',\n",
              " 'tBodyGyroJerk-correlation()-X,Y',\n",
              " 'tBodyGyroJerk-correlation()-X,Z',\n",
              " 'tBodyGyroJerk-correlation()-Y,Z',\n",
              " 'tBodyAccMag-mean()',\n",
              " 'tBodyAccMag-std()',\n",
              " 'tBodyAccMag-mad()',\n",
              " 'tBodyAccMag-max()',\n",
              " 'tBodyAccMag-min()',\n",
              " 'tBodyAccMag-sma()',\n",
              " 'tBodyAccMag-energy()',\n",
              " 'tBodyAccMag-iqr()',\n",
              " 'tBodyAccMag-entropy()',\n",
              " 'tBodyAccMag-arCoeff()1',\n",
              " 'tBodyAccMag-arCoeff()2',\n",
              " 'tBodyAccMag-arCoeff()3',\n",
              " 'tBodyAccMag-arCoeff()4',\n",
              " 'tGravityAccMag-mean()',\n",
              " 'tGravityAccMag-std()',\n",
              " 'tGravityAccMag-mad()',\n",
              " 'tGravityAccMag-max()',\n",
              " 'tGravityAccMag-min()',\n",
              " 'tGravityAccMag-sma()',\n",
              " 'tGravityAccMag-energy()',\n",
              " 'tGravityAccMag-iqr()',\n",
              " 'tGravityAccMag-entropy()',\n",
              " 'tGravityAccMag-arCoeff()1',\n",
              " 'tGravityAccMag-arCoeff()2',\n",
              " 'tGravityAccMag-arCoeff()3',\n",
              " 'tGravityAccMag-arCoeff()4',\n",
              " 'tBodyAccJerkMag-mean()',\n",
              " 'tBodyAccJerkMag-std()',\n",
              " 'tBodyAccJerkMag-mad()',\n",
              " 'tBodyAccJerkMag-max()',\n",
              " 'tBodyAccJerkMag-min()',\n",
              " 'tBodyAccJerkMag-sma()',\n",
              " 'tBodyAccJerkMag-energy()',\n",
              " 'tBodyAccJerkMag-iqr()',\n",
              " 'tBodyAccJerkMag-entropy()',\n",
              " 'tBodyAccJerkMag-arCoeff()1',\n",
              " 'tBodyAccJerkMag-arCoeff()2',\n",
              " 'tBodyAccJerkMag-arCoeff()3',\n",
              " 'tBodyAccJerkMag-arCoeff()4',\n",
              " 'tBodyGyroMag-mean()',\n",
              " 'tBodyGyroMag-std()',\n",
              " 'tBodyGyroMag-mad()',\n",
              " 'tBodyGyroMag-max()',\n",
              " 'tBodyGyroMag-min()',\n",
              " 'tBodyGyroMag-sma()',\n",
              " 'tBodyGyroMag-energy()',\n",
              " 'tBodyGyroMag-iqr()',\n",
              " 'tBodyGyroMag-entropy()',\n",
              " 'tBodyGyroMag-arCoeff()1',\n",
              " 'tBodyGyroMag-arCoeff()2',\n",
              " 'tBodyGyroMag-arCoeff()3',\n",
              " 'tBodyGyroMag-arCoeff()4',\n",
              " 'tBodyGyroJerkMag-mean()',\n",
              " 'tBodyGyroJerkMag-std()',\n",
              " 'tBodyGyroJerkMag-mad()',\n",
              " 'tBodyGyroJerkMag-max()',\n",
              " 'tBodyGyroJerkMag-min()',\n",
              " 'tBodyGyroJerkMag-sma()',\n",
              " 'tBodyGyroJerkMag-energy()',\n",
              " 'tBodyGyroJerkMag-iqr()',\n",
              " 'tBodyGyroJerkMag-entropy()',\n",
              " 'tBodyGyroJerkMag-arCoeff()1',\n",
              " 'tBodyGyroJerkMag-arCoeff()2',\n",
              " 'tBodyGyroJerkMag-arCoeff()3',\n",
              " 'tBodyGyroJerkMag-arCoeff()4',\n",
              " 'fBodyAcc-mean()-X',\n",
              " 'fBodyAcc-mean()-Y',\n",
              " 'fBodyAcc-mean()-Z',\n",
              " 'fBodyAcc-std()-X',\n",
              " 'fBodyAcc-std()-Y',\n",
              " 'fBodyAcc-std()-Z',\n",
              " 'fBodyAcc-mad()-X',\n",
              " 'fBodyAcc-mad()-Y',\n",
              " 'fBodyAcc-mad()-Z',\n",
              " 'fBodyAcc-max()-X',\n",
              " 'fBodyAcc-max()-Y',\n",
              " 'fBodyAcc-max()-Z',\n",
              " 'fBodyAcc-min()-X',\n",
              " 'fBodyAcc-min()-Y',\n",
              " 'fBodyAcc-min()-Z',\n",
              " 'fBodyAcc-sma()',\n",
              " 'fBodyAcc-energy()-X',\n",
              " 'fBodyAcc-energy()-Y',\n",
              " 'fBodyAcc-energy()-Z',\n",
              " 'fBodyAcc-iqr()-X',\n",
              " 'fBodyAcc-iqr()-Y',\n",
              " 'fBodyAcc-iqr()-Z',\n",
              " 'fBodyAcc-entropy()-X',\n",
              " 'fBodyAcc-entropy()-Y',\n",
              " 'fBodyAcc-entropy()-Z',\n",
              " 'fBodyAcc-maxInds-X',\n",
              " 'fBodyAcc-maxInds-Y',\n",
              " 'fBodyAcc-maxInds-Z',\n",
              " 'fBodyAcc-meanFreq()-X',\n",
              " 'fBodyAcc-meanFreq()-Y',\n",
              " 'fBodyAcc-meanFreq()-Z',\n",
              " 'fBodyAcc-skewness()-X',\n",
              " 'fBodyAcc-kurtosis()-X',\n",
              " 'fBodyAcc-skewness()-Y',\n",
              " 'fBodyAcc-kurtosis()-Y',\n",
              " 'fBodyAcc-skewness()-Z',\n",
              " 'fBodyAcc-kurtosis()-Z',\n",
              " 'fBodyAcc-bandsEnergy()-1,8',\n",
              " 'fBodyAcc-bandsEnergy()-9,16',\n",
              " 'fBodyAcc-bandsEnergy()-17,24',\n",
              " 'fBodyAcc-bandsEnergy()-25,32',\n",
              " 'fBodyAcc-bandsEnergy()-33,40',\n",
              " 'fBodyAcc-bandsEnergy()-41,48',\n",
              " 'fBodyAcc-bandsEnergy()-49,56',\n",
              " 'fBodyAcc-bandsEnergy()-57,64',\n",
              " 'fBodyAcc-bandsEnergy()-1,16',\n",
              " 'fBodyAcc-bandsEnergy()-17,32',\n",
              " 'fBodyAcc-bandsEnergy()-33,48',\n",
              " 'fBodyAcc-bandsEnergy()-49,64',\n",
              " 'fBodyAcc-bandsEnergy()-1,24',\n",
              " 'fBodyAcc-bandsEnergy()-25,48',\n",
              " 'fBodyAcc-bandsEnergy()-1,8',\n",
              " 'fBodyAcc-bandsEnergy()-9,16',\n",
              " 'fBodyAcc-bandsEnergy()-17,24',\n",
              " 'fBodyAcc-bandsEnergy()-25,32',\n",
              " 'fBodyAcc-bandsEnergy()-33,40',\n",
              " 'fBodyAcc-bandsEnergy()-41,48',\n",
              " 'fBodyAcc-bandsEnergy()-49,56',\n",
              " 'fBodyAcc-bandsEnergy()-57,64',\n",
              " 'fBodyAcc-bandsEnergy()-1,16',\n",
              " 'fBodyAcc-bandsEnergy()-17,32',\n",
              " 'fBodyAcc-bandsEnergy()-33,48',\n",
              " 'fBodyAcc-bandsEnergy()-49,64',\n",
              " 'fBodyAcc-bandsEnergy()-1,24',\n",
              " 'fBodyAcc-bandsEnergy()-25,48',\n",
              " 'fBodyAcc-bandsEnergy()-1,8',\n",
              " 'fBodyAcc-bandsEnergy()-9,16',\n",
              " 'fBodyAcc-bandsEnergy()-17,24',\n",
              " 'fBodyAcc-bandsEnergy()-25,32',\n",
              " 'fBodyAcc-bandsEnergy()-33,40',\n",
              " 'fBodyAcc-bandsEnergy()-41,48',\n",
              " 'fBodyAcc-bandsEnergy()-49,56',\n",
              " 'fBodyAcc-bandsEnergy()-57,64',\n",
              " 'fBodyAcc-bandsEnergy()-1,16',\n",
              " 'fBodyAcc-bandsEnergy()-17,32',\n",
              " 'fBodyAcc-bandsEnergy()-33,48',\n",
              " 'fBodyAcc-bandsEnergy()-49,64',\n",
              " 'fBodyAcc-bandsEnergy()-1,24',\n",
              " 'fBodyAcc-bandsEnergy()-25,48',\n",
              " 'fBodyAccJerk-mean()-X',\n",
              " 'fBodyAccJerk-mean()-Y',\n",
              " 'fBodyAccJerk-mean()-Z',\n",
              " 'fBodyAccJerk-std()-X',\n",
              " 'fBodyAccJerk-std()-Y',\n",
              " 'fBodyAccJerk-std()-Z',\n",
              " 'fBodyAccJerk-mad()-X',\n",
              " 'fBodyAccJerk-mad()-Y',\n",
              " 'fBodyAccJerk-mad()-Z',\n",
              " 'fBodyAccJerk-max()-X',\n",
              " 'fBodyAccJerk-max()-Y',\n",
              " 'fBodyAccJerk-max()-Z',\n",
              " 'fBodyAccJerk-min()-X',\n",
              " 'fBodyAccJerk-min()-Y',\n",
              " 'fBodyAccJerk-min()-Z',\n",
              " 'fBodyAccJerk-sma()',\n",
              " 'fBodyAccJerk-energy()-X',\n",
              " 'fBodyAccJerk-energy()-Y',\n",
              " 'fBodyAccJerk-energy()-Z',\n",
              " 'fBodyAccJerk-iqr()-X',\n",
              " 'fBodyAccJerk-iqr()-Y',\n",
              " 'fBodyAccJerk-iqr()-Z',\n",
              " 'fBodyAccJerk-entropy()-X',\n",
              " 'fBodyAccJerk-entropy()-Y',\n",
              " 'fBodyAccJerk-entropy()-Z',\n",
              " 'fBodyAccJerk-maxInds-X',\n",
              " 'fBodyAccJerk-maxInds-Y',\n",
              " 'fBodyAccJerk-maxInds-Z',\n",
              " 'fBodyAccJerk-meanFreq()-X',\n",
              " 'fBodyAccJerk-meanFreq()-Y',\n",
              " 'fBodyAccJerk-meanFreq()-Z',\n",
              " 'fBodyAccJerk-skewness()-X',\n",
              " 'fBodyAccJerk-kurtosis()-X',\n",
              " 'fBodyAccJerk-skewness()-Y',\n",
              " 'fBodyAccJerk-kurtosis()-Y',\n",
              " 'fBodyAccJerk-skewness()-Z',\n",
              " 'fBodyAccJerk-kurtosis()-Z',\n",
              " 'fBodyAccJerk-bandsEnergy()-1,8',\n",
              " 'fBodyAccJerk-bandsEnergy()-9,16',\n",
              " 'fBodyAccJerk-bandsEnergy()-17,24',\n",
              " 'fBodyAccJerk-bandsEnergy()-25,32',\n",
              " 'fBodyAccJerk-bandsEnergy()-33,40',\n",
              " 'fBodyAccJerk-bandsEnergy()-41,48',\n",
              " 'fBodyAccJerk-bandsEnergy()-49,56',\n",
              " 'fBodyAccJerk-bandsEnergy()-57,64',\n",
              " 'fBodyAccJerk-bandsEnergy()-1,16',\n",
              " 'fBodyAccJerk-bandsEnergy()-17,32',\n",
              " 'fBodyAccJerk-bandsEnergy()-33,48',\n",
              " 'fBodyAccJerk-bandsEnergy()-49,64',\n",
              " 'fBodyAccJerk-bandsEnergy()-1,24',\n",
              " 'fBodyAccJerk-bandsEnergy()-25,48',\n",
              " 'fBodyAccJerk-bandsEnergy()-1,8',\n",
              " 'fBodyAccJerk-bandsEnergy()-9,16',\n",
              " 'fBodyAccJerk-bandsEnergy()-17,24',\n",
              " 'fBodyAccJerk-bandsEnergy()-25,32',\n",
              " 'fBodyAccJerk-bandsEnergy()-33,40',\n",
              " 'fBodyAccJerk-bandsEnergy()-41,48',\n",
              " 'fBodyAccJerk-bandsEnergy()-49,56',\n",
              " 'fBodyAccJerk-bandsEnergy()-57,64',\n",
              " 'fBodyAccJerk-bandsEnergy()-1,16',\n",
              " 'fBodyAccJerk-bandsEnergy()-17,32',\n",
              " 'fBodyAccJerk-bandsEnergy()-33,48',\n",
              " 'fBodyAccJerk-bandsEnergy()-49,64',\n",
              " 'fBodyAccJerk-bandsEnergy()-1,24',\n",
              " 'fBodyAccJerk-bandsEnergy()-25,48',\n",
              " 'fBodyAccJerk-bandsEnergy()-1,8',\n",
              " 'fBodyAccJerk-bandsEnergy()-9,16',\n",
              " 'fBodyAccJerk-bandsEnergy()-17,24',\n",
              " 'fBodyAccJerk-bandsEnergy()-25,32',\n",
              " 'fBodyAccJerk-bandsEnergy()-33,40',\n",
              " 'fBodyAccJerk-bandsEnergy()-41,48',\n",
              " 'fBodyAccJerk-bandsEnergy()-49,56',\n",
              " 'fBodyAccJerk-bandsEnergy()-57,64',\n",
              " 'fBodyAccJerk-bandsEnergy()-1,16',\n",
              " 'fBodyAccJerk-bandsEnergy()-17,32',\n",
              " 'fBodyAccJerk-bandsEnergy()-33,48',\n",
              " 'fBodyAccJerk-bandsEnergy()-49,64',\n",
              " 'fBodyAccJerk-bandsEnergy()-1,24',\n",
              " 'fBodyAccJerk-bandsEnergy()-25,48',\n",
              " 'fBodyGyro-mean()-X',\n",
              " 'fBodyGyro-mean()-Y',\n",
              " 'fBodyGyro-mean()-Z',\n",
              " 'fBodyGyro-std()-X',\n",
              " 'fBodyGyro-std()-Y',\n",
              " 'fBodyGyro-std()-Z',\n",
              " 'fBodyGyro-mad()-X',\n",
              " 'fBodyGyro-mad()-Y',\n",
              " 'fBodyGyro-mad()-Z',\n",
              " 'fBodyGyro-max()-X',\n",
              " 'fBodyGyro-max()-Y',\n",
              " 'fBodyGyro-max()-Z',\n",
              " 'fBodyGyro-min()-X',\n",
              " 'fBodyGyro-min()-Y',\n",
              " 'fBodyGyro-min()-Z',\n",
              " 'fBodyGyro-sma()',\n",
              " 'fBodyGyro-energy()-X',\n",
              " 'fBodyGyro-energy()-Y',\n",
              " 'fBodyGyro-energy()-Z',\n",
              " 'fBodyGyro-iqr()-X',\n",
              " 'fBodyGyro-iqr()-Y',\n",
              " 'fBodyGyro-iqr()-Z',\n",
              " 'fBodyGyro-entropy()-X',\n",
              " 'fBodyGyro-entropy()-Y',\n",
              " 'fBodyGyro-entropy()-Z',\n",
              " 'fBodyGyro-maxInds-X',\n",
              " 'fBodyGyro-maxInds-Y',\n",
              " 'fBodyGyro-maxInds-Z',\n",
              " 'fBodyGyro-meanFreq()-X',\n",
              " 'fBodyGyro-meanFreq()-Y',\n",
              " 'fBodyGyro-meanFreq()-Z',\n",
              " 'fBodyGyro-skewness()-X',\n",
              " 'fBodyGyro-kurtosis()-X',\n",
              " 'fBodyGyro-skewness()-Y',\n",
              " 'fBodyGyro-kurtosis()-Y',\n",
              " 'fBodyGyro-skewness()-Z',\n",
              " 'fBodyGyro-kurtosis()-Z',\n",
              " 'fBodyGyro-bandsEnergy()-1,8',\n",
              " 'fBodyGyro-bandsEnergy()-9,16',\n",
              " 'fBodyGyro-bandsEnergy()-17,24',\n",
              " 'fBodyGyro-bandsEnergy()-25,32',\n",
              " 'fBodyGyro-bandsEnergy()-33,40',\n",
              " 'fBodyGyro-bandsEnergy()-41,48',\n",
              " 'fBodyGyro-bandsEnergy()-49,56',\n",
              " 'fBodyGyro-bandsEnergy()-57,64',\n",
              " 'fBodyGyro-bandsEnergy()-1,16',\n",
              " 'fBodyGyro-bandsEnergy()-17,32',\n",
              " 'fBodyGyro-bandsEnergy()-33,48',\n",
              " 'fBodyGyro-bandsEnergy()-49,64',\n",
              " 'fBodyGyro-bandsEnergy()-1,24',\n",
              " 'fBodyGyro-bandsEnergy()-25,48',\n",
              " 'fBodyGyro-bandsEnergy()-1,8',\n",
              " 'fBodyGyro-bandsEnergy()-9,16',\n",
              " 'fBodyGyro-bandsEnergy()-17,24',\n",
              " 'fBodyGyro-bandsEnergy()-25,32',\n",
              " 'fBodyGyro-bandsEnergy()-33,40',\n",
              " 'fBodyGyro-bandsEnergy()-41,48',\n",
              " 'fBodyGyro-bandsEnergy()-49,56',\n",
              " 'fBodyGyro-bandsEnergy()-57,64',\n",
              " 'fBodyGyro-bandsEnergy()-1,16',\n",
              " 'fBodyGyro-bandsEnergy()-17,32',\n",
              " 'fBodyGyro-bandsEnergy()-33,48',\n",
              " 'fBodyGyro-bandsEnergy()-49,64',\n",
              " 'fBodyGyro-bandsEnergy()-1,24',\n",
              " 'fBodyGyro-bandsEnergy()-25,48',\n",
              " 'fBodyGyro-bandsEnergy()-1,8',\n",
              " 'fBodyGyro-bandsEnergy()-9,16',\n",
              " 'fBodyGyro-bandsEnergy()-17,24',\n",
              " 'fBodyGyro-bandsEnergy()-25,32',\n",
              " 'fBodyGyro-bandsEnergy()-33,40',\n",
              " 'fBodyGyro-bandsEnergy()-41,48',\n",
              " 'fBodyGyro-bandsEnergy()-49,56',\n",
              " 'fBodyGyro-bandsEnergy()-57,64',\n",
              " 'fBodyGyro-bandsEnergy()-1,16',\n",
              " 'fBodyGyro-bandsEnergy()-17,32',\n",
              " 'fBodyGyro-bandsEnergy()-33,48',\n",
              " 'fBodyGyro-bandsEnergy()-49,64',\n",
              " 'fBodyGyro-bandsEnergy()-1,24',\n",
              " 'fBodyGyro-bandsEnergy()-25,48',\n",
              " 'fBodyAccMag-mean()',\n",
              " 'fBodyAccMag-std()',\n",
              " 'fBodyAccMag-mad()',\n",
              " 'fBodyAccMag-max()',\n",
              " 'fBodyAccMag-min()',\n",
              " 'fBodyAccMag-sma()',\n",
              " 'fBodyAccMag-energy()',\n",
              " 'fBodyAccMag-iqr()',\n",
              " 'fBodyAccMag-entropy()',\n",
              " 'fBodyAccMag-maxInds',\n",
              " 'fBodyAccMag-meanFreq()',\n",
              " 'fBodyAccMag-skewness()',\n",
              " 'fBodyAccMag-kurtosis()',\n",
              " 'fBodyBodyAccJerkMag-mean()',\n",
              " 'fBodyBodyAccJerkMag-std()',\n",
              " 'fBodyBodyAccJerkMag-mad()',\n",
              " 'fBodyBodyAccJerkMag-max()',\n",
              " 'fBodyBodyAccJerkMag-min()',\n",
              " 'fBodyBodyAccJerkMag-sma()',\n",
              " 'fBodyBodyAccJerkMag-energy()',\n",
              " 'fBodyBodyAccJerkMag-iqr()',\n",
              " 'fBodyBodyAccJerkMag-entropy()',\n",
              " 'fBodyBodyAccJerkMag-maxInds',\n",
              " 'fBodyBodyAccJerkMag-meanFreq()',\n",
              " 'fBodyBodyAccJerkMag-skewness()',\n",
              " 'fBodyBodyAccJerkMag-kurtosis()',\n",
              " 'fBodyBodyGyroMag-mean()',\n",
              " 'fBodyBodyGyroMag-std()',\n",
              " 'fBodyBodyGyroMag-mad()',\n",
              " 'fBodyBodyGyroMag-max()',\n",
              " 'fBodyBodyGyroMag-min()',\n",
              " 'fBodyBodyGyroMag-sma()',\n",
              " 'fBodyBodyGyroMag-energy()',\n",
              " 'fBodyBodyGyroMag-iqr()',\n",
              " 'fBodyBodyGyroMag-entropy()',\n",
              " 'fBodyBodyGyroMag-maxInds',\n",
              " 'fBodyBodyGyroMag-meanFreq()',\n",
              " 'fBodyBodyGyroMag-skewness()',\n",
              " 'fBodyBodyGyroMag-kurtosis()',\n",
              " 'fBodyBodyGyroJerkMag-mean()',\n",
              " 'fBodyBodyGyroJerkMag-std()',\n",
              " 'fBodyBodyGyroJerkMag-mad()',\n",
              " 'fBodyBodyGyroJerkMag-max()',\n",
              " 'fBodyBodyGyroJerkMag-min()',\n",
              " 'fBodyBodyGyroJerkMag-sma()',\n",
              " 'fBodyBodyGyroJerkMag-energy()',\n",
              " 'fBodyBodyGyroJerkMag-iqr()',\n",
              " 'fBodyBodyGyroJerkMag-entropy()',\n",
              " 'fBodyBodyGyroJerkMag-maxInds',\n",
              " 'fBodyBodyGyroJerkMag-meanFreq()',\n",
              " 'fBodyBodyGyroJerkMag-skewness()',\n",
              " 'fBodyBodyGyroJerkMag-kurtosis()',\n",
              " 'angle(tBodyAccMean,gravity)',\n",
              " 'angle(tBodyAccJerkMean),gravityMean)',\n",
              " 'angle(tBodyGyroMean,gravityMean)',\n",
              " 'angle(tBodyGyroJerkMean,gravityMean)',\n",
              " 'angle(X,gravityMean)',\n",
              " 'angle(Y,gravityMean)',\n",
              " 'angle(Z,gravityMean)']"
            ]
          },
          "metadata": {},
          "execution_count": 14
        }
      ]
    },
    {
      "cell_type": "code",
      "source": [
        "test_df = pd.read_csv(\"UCI HAR Dataset/test/X_test.txt\", delim_whitespace = True,names=list(range(0,561)))\n",
        "\n",
        "test_df['Subject'] = pd.read_csv(\"UCI HAR Dataset/test/subject_test.txt\", header = None, squeeze = True)\n",
        "\n",
        "test_df[\"activity\"] = pd.read_csv(\"UCI HAR Dataset/test/y_test.txt\", header = None, squeeze = True)"
      ],
      "metadata": {
        "id": "cWY3iCiLRGvA"
      },
      "execution_count": null,
      "outputs": []
    },
    {
      "cell_type": "code",
      "source": [
        "train_df.to_csv('train.csv',index_label=False)"
      ],
      "metadata": {
        "id": "uA5lsMSxRbfP"
      },
      "execution_count": null,
      "outputs": []
    },
    {
      "cell_type": "code",
      "source": [
        "test_df.to_csv('test.csv',index_label=False)"
      ],
      "metadata": {
        "id": "sHE8PcC_Rb1H"
      },
      "execution_count": null,
      "outputs": []
    },
    {
      "cell_type": "code",
      "source": [
        "train_df= pd.read_csv('/content/gdrive/MyDrive/Employee_Security_System/train.csv')"
      ],
      "metadata": {
        "id": "OdtfEI1dRfbf"
      },
      "execution_count": null,
      "outputs": []
    },
    {
      "cell_type": "code",
      "source": [
        "train_df.head()"
      ],
      "metadata": {
        "colab": {
          "base_uri": "https://localhost:8080/",
          "height": 300
        },
        "id": "1TcN0kK-XnWJ",
        "outputId": "163c546a-0407-458c-eb9f-0c6e5cbfb9b7"
      },
      "execution_count": null,
      "outputs": [
        {
          "output_type": "execute_result",
          "data": {
            "text/plain": [
              "          0         1         2         3         4         5         6  \\\n",
              "0  0.288585 -0.020294 -0.132905 -0.995279 -0.983111 -0.913526 -0.995112   \n",
              "1  0.278419 -0.016411 -0.123520 -0.998245 -0.975300 -0.960322 -0.998807   \n",
              "2  0.279653 -0.019467 -0.113462 -0.995380 -0.967187 -0.978944 -0.996520   \n",
              "3  0.279174 -0.026201 -0.123283 -0.996091 -0.983403 -0.990675 -0.997099   \n",
              "4  0.276629 -0.016570 -0.115362 -0.998139 -0.980817 -0.990482 -0.998321   \n",
              "\n",
              "          7         8         9  ...       553       554       555       556  \\\n",
              "0 -0.983185 -0.923527 -0.934724  ... -0.710304 -0.112754  0.030400 -0.464761   \n",
              "1 -0.974914 -0.957686 -0.943068  ... -0.861499  0.053477 -0.007435 -0.732626   \n",
              "2 -0.963668 -0.977469 -0.938692  ... -0.760104 -0.118559  0.177899  0.100699   \n",
              "3 -0.982750 -0.989302 -0.938692  ... -0.482845 -0.036788 -0.012892  0.640011   \n",
              "4 -0.979672 -0.990441 -0.942469  ... -0.699205  0.123320  0.122542  0.693578   \n",
              "\n",
              "        557       558       559       560  Subject  activity  \n",
              "0 -0.018446 -0.841247  0.179941 -0.058627        1         5  \n",
              "1  0.703511 -0.844788  0.180289 -0.054317        1         5  \n",
              "2  0.808529 -0.848933  0.180637 -0.049118        1         5  \n",
              "3 -0.485366 -0.848649  0.181935 -0.047663        1         5  \n",
              "4 -0.615971 -0.847865  0.185151 -0.043892        1         5  \n",
              "\n",
              "[5 rows x 563 columns]"
            ],
            "text/html": [
              "\n",
              "  <div id=\"df-fe25cf15-5551-46e9-8189-ddd7f5a7d88d\">\n",
              "    <div class=\"colab-df-container\">\n",
              "      <div>\n",
              "<style scoped>\n",
              "    .dataframe tbody tr th:only-of-type {\n",
              "        vertical-align: middle;\n",
              "    }\n",
              "\n",
              "    .dataframe tbody tr th {\n",
              "        vertical-align: top;\n",
              "    }\n",
              "\n",
              "    .dataframe thead th {\n",
              "        text-align: right;\n",
              "    }\n",
              "</style>\n",
              "<table border=\"1\" class=\"dataframe\">\n",
              "  <thead>\n",
              "    <tr style=\"text-align: right;\">\n",
              "      <th></th>\n",
              "      <th>0</th>\n",
              "      <th>1</th>\n",
              "      <th>2</th>\n",
              "      <th>3</th>\n",
              "      <th>4</th>\n",
              "      <th>5</th>\n",
              "      <th>6</th>\n",
              "      <th>7</th>\n",
              "      <th>8</th>\n",
              "      <th>9</th>\n",
              "      <th>...</th>\n",
              "      <th>553</th>\n",
              "      <th>554</th>\n",
              "      <th>555</th>\n",
              "      <th>556</th>\n",
              "      <th>557</th>\n",
              "      <th>558</th>\n",
              "      <th>559</th>\n",
              "      <th>560</th>\n",
              "      <th>Subject</th>\n",
              "      <th>activity</th>\n",
              "    </tr>\n",
              "  </thead>\n",
              "  <tbody>\n",
              "    <tr>\n",
              "      <th>0</th>\n",
              "      <td>0.288585</td>\n",
              "      <td>-0.020294</td>\n",
              "      <td>-0.132905</td>\n",
              "      <td>-0.995279</td>\n",
              "      <td>-0.983111</td>\n",
              "      <td>-0.913526</td>\n",
              "      <td>-0.995112</td>\n",
              "      <td>-0.983185</td>\n",
              "      <td>-0.923527</td>\n",
              "      <td>-0.934724</td>\n",
              "      <td>...</td>\n",
              "      <td>-0.710304</td>\n",
              "      <td>-0.112754</td>\n",
              "      <td>0.030400</td>\n",
              "      <td>-0.464761</td>\n",
              "      <td>-0.018446</td>\n",
              "      <td>-0.841247</td>\n",
              "      <td>0.179941</td>\n",
              "      <td>-0.058627</td>\n",
              "      <td>1</td>\n",
              "      <td>5</td>\n",
              "    </tr>\n",
              "    <tr>\n",
              "      <th>1</th>\n",
              "      <td>0.278419</td>\n",
              "      <td>-0.016411</td>\n",
              "      <td>-0.123520</td>\n",
              "      <td>-0.998245</td>\n",
              "      <td>-0.975300</td>\n",
              "      <td>-0.960322</td>\n",
              "      <td>-0.998807</td>\n",
              "      <td>-0.974914</td>\n",
              "      <td>-0.957686</td>\n",
              "      <td>-0.943068</td>\n",
              "      <td>...</td>\n",
              "      <td>-0.861499</td>\n",
              "      <td>0.053477</td>\n",
              "      <td>-0.007435</td>\n",
              "      <td>-0.732626</td>\n",
              "      <td>0.703511</td>\n",
              "      <td>-0.844788</td>\n",
              "      <td>0.180289</td>\n",
              "      <td>-0.054317</td>\n",
              "      <td>1</td>\n",
              "      <td>5</td>\n",
              "    </tr>\n",
              "    <tr>\n",
              "      <th>2</th>\n",
              "      <td>0.279653</td>\n",
              "      <td>-0.019467</td>\n",
              "      <td>-0.113462</td>\n",
              "      <td>-0.995380</td>\n",
              "      <td>-0.967187</td>\n",
              "      <td>-0.978944</td>\n",
              "      <td>-0.996520</td>\n",
              "      <td>-0.963668</td>\n",
              "      <td>-0.977469</td>\n",
              "      <td>-0.938692</td>\n",
              "      <td>...</td>\n",
              "      <td>-0.760104</td>\n",
              "      <td>-0.118559</td>\n",
              "      <td>0.177899</td>\n",
              "      <td>0.100699</td>\n",
              "      <td>0.808529</td>\n",
              "      <td>-0.848933</td>\n",
              "      <td>0.180637</td>\n",
              "      <td>-0.049118</td>\n",
              "      <td>1</td>\n",
              "      <td>5</td>\n",
              "    </tr>\n",
              "    <tr>\n",
              "      <th>3</th>\n",
              "      <td>0.279174</td>\n",
              "      <td>-0.026201</td>\n",
              "      <td>-0.123283</td>\n",
              "      <td>-0.996091</td>\n",
              "      <td>-0.983403</td>\n",
              "      <td>-0.990675</td>\n",
              "      <td>-0.997099</td>\n",
              "      <td>-0.982750</td>\n",
              "      <td>-0.989302</td>\n",
              "      <td>-0.938692</td>\n",
              "      <td>...</td>\n",
              "      <td>-0.482845</td>\n",
              "      <td>-0.036788</td>\n",
              "      <td>-0.012892</td>\n",
              "      <td>0.640011</td>\n",
              "      <td>-0.485366</td>\n",
              "      <td>-0.848649</td>\n",
              "      <td>0.181935</td>\n",
              "      <td>-0.047663</td>\n",
              "      <td>1</td>\n",
              "      <td>5</td>\n",
              "    </tr>\n",
              "    <tr>\n",
              "      <th>4</th>\n",
              "      <td>0.276629</td>\n",
              "      <td>-0.016570</td>\n",
              "      <td>-0.115362</td>\n",
              "      <td>-0.998139</td>\n",
              "      <td>-0.980817</td>\n",
              "      <td>-0.990482</td>\n",
              "      <td>-0.998321</td>\n",
              "      <td>-0.979672</td>\n",
              "      <td>-0.990441</td>\n",
              "      <td>-0.942469</td>\n",
              "      <td>...</td>\n",
              "      <td>-0.699205</td>\n",
              "      <td>0.123320</td>\n",
              "      <td>0.122542</td>\n",
              "      <td>0.693578</td>\n",
              "      <td>-0.615971</td>\n",
              "      <td>-0.847865</td>\n",
              "      <td>0.185151</td>\n",
              "      <td>-0.043892</td>\n",
              "      <td>1</td>\n",
              "      <td>5</td>\n",
              "    </tr>\n",
              "  </tbody>\n",
              "</table>\n",
              "<p>5 rows × 563 columns</p>\n",
              "</div>\n",
              "      <button class=\"colab-df-convert\" onclick=\"convertToInteractive('df-fe25cf15-5551-46e9-8189-ddd7f5a7d88d')\"\n",
              "              title=\"Convert this dataframe to an interactive table.\"\n",
              "              style=\"display:none;\">\n",
              "        \n",
              "  <svg xmlns=\"http://www.w3.org/2000/svg\" height=\"24px\"viewBox=\"0 0 24 24\"\n",
              "       width=\"24px\">\n",
              "    <path d=\"M0 0h24v24H0V0z\" fill=\"none\"/>\n",
              "    <path d=\"M18.56 5.44l.94 2.06.94-2.06 2.06-.94-2.06-.94-.94-2.06-.94 2.06-2.06.94zm-11 1L8.5 8.5l.94-2.06 2.06-.94-2.06-.94L8.5 2.5l-.94 2.06-2.06.94zm10 10l.94 2.06.94-2.06 2.06-.94-2.06-.94-.94-2.06-.94 2.06-2.06.94z\"/><path d=\"M17.41 7.96l-1.37-1.37c-.4-.4-.92-.59-1.43-.59-.52 0-1.04.2-1.43.59L10.3 9.45l-7.72 7.72c-.78.78-.78 2.05 0 2.83L4 21.41c.39.39.9.59 1.41.59.51 0 1.02-.2 1.41-.59l7.78-7.78 2.81-2.81c.8-.78.8-2.07 0-2.86zM5.41 20L4 18.59l7.72-7.72 1.47 1.35L5.41 20z\"/>\n",
              "  </svg>\n",
              "      </button>\n",
              "      \n",
              "  <style>\n",
              "    .colab-df-container {\n",
              "      display:flex;\n",
              "      flex-wrap:wrap;\n",
              "      gap: 12px;\n",
              "    }\n",
              "\n",
              "    .colab-df-convert {\n",
              "      background-color: #E8F0FE;\n",
              "      border: none;\n",
              "      border-radius: 50%;\n",
              "      cursor: pointer;\n",
              "      display: none;\n",
              "      fill: #1967D2;\n",
              "      height: 32px;\n",
              "      padding: 0 0 0 0;\n",
              "      width: 32px;\n",
              "    }\n",
              "\n",
              "    .colab-df-convert:hover {\n",
              "      background-color: #E2EBFA;\n",
              "      box-shadow: 0px 1px 2px rgba(60, 64, 67, 0.3), 0px 1px 3px 1px rgba(60, 64, 67, 0.15);\n",
              "      fill: #174EA6;\n",
              "    }\n",
              "\n",
              "    [theme=dark] .colab-df-convert {\n",
              "      background-color: #3B4455;\n",
              "      fill: #D2E3FC;\n",
              "    }\n",
              "\n",
              "    [theme=dark] .colab-df-convert:hover {\n",
              "      background-color: #434B5C;\n",
              "      box-shadow: 0px 1px 3px 1px rgba(0, 0, 0, 0.15);\n",
              "      filter: drop-shadow(0px 1px 2px rgba(0, 0, 0, 0.3));\n",
              "      fill: #FFFFFF;\n",
              "    }\n",
              "  </style>\n",
              "\n",
              "      <script>\n",
              "        const buttonEl =\n",
              "          document.querySelector('#df-fe25cf15-5551-46e9-8189-ddd7f5a7d88d button.colab-df-convert');\n",
              "        buttonEl.style.display =\n",
              "          google.colab.kernel.accessAllowed ? 'block' : 'none';\n",
              "\n",
              "        async function convertToInteractive(key) {\n",
              "          const element = document.querySelector('#df-fe25cf15-5551-46e9-8189-ddd7f5a7d88d');\n",
              "          const dataTable =\n",
              "            await google.colab.kernel.invokeFunction('convertToInteractive',\n",
              "                                                     [key], {});\n",
              "          if (!dataTable) return;\n",
              "\n",
              "          const docLinkHtml = 'Like what you see? Visit the ' +\n",
              "            '<a target=\"_blank\" href=https://colab.research.google.com/notebooks/data_table.ipynb>data table notebook</a>'\n",
              "            + ' to learn more about interactive tables.';\n",
              "          element.innerHTML = '';\n",
              "          dataTable['output_type'] = 'display_data';\n",
              "          await google.colab.output.renderOutput(dataTable, element);\n",
              "          const docLink = document.createElement('div');\n",
              "          docLink.innerHTML = docLinkHtml;\n",
              "          element.appendChild(docLink);\n",
              "        }\n",
              "      </script>\n",
              "    </div>\n",
              "  </div>\n",
              "  "
            ]
          },
          "metadata": {},
          "execution_count": 137
        }
      ]
    },
    {
      "cell_type": "code",
      "source": [
        "test_df = pd.read_csv('/content/gdrive/MyDrive/Employee_Security_System/test.csv')"
      ],
      "metadata": {
        "id": "tlsqcqeTXqH4"
      },
      "execution_count": null,
      "outputs": []
    },
    {
      "cell_type": "code",
      "source": [
        "test_df.head()"
      ],
      "metadata": {
        "colab": {
          "base_uri": "https://localhost:8080/",
          "height": 300
        },
        "id": "Sy3Qa9_RX0tx",
        "outputId": "97e3fea5-6738-48ea-f805-348e0b54dd9b"
      },
      "execution_count": null,
      "outputs": [
        {
          "output_type": "execute_result",
          "data": {
            "text/plain": [
              "          0         1         2         3         4         5         6  \\\n",
              "0  0.257178 -0.023285 -0.014654 -0.938404 -0.920091 -0.667683 -0.952501   \n",
              "1  0.286027 -0.013163 -0.119083 -0.975415 -0.967458 -0.944958 -0.986799   \n",
              "2  0.275485 -0.026050 -0.118152 -0.993819 -0.969926 -0.962748 -0.994403   \n",
              "3  0.270298 -0.032614 -0.117520 -0.994743 -0.973268 -0.967091 -0.995274   \n",
              "4  0.274833 -0.027848 -0.129527 -0.993852 -0.967445 -0.978295 -0.994111   \n",
              "\n",
              "          7         8         9  ...       553       554       555       556  \\\n",
              "0 -0.925249 -0.674302 -0.894088  ... -0.705974  0.006462  0.162920 -0.825886   \n",
              "1 -0.968401 -0.945823 -0.894088  ... -0.594944 -0.083495  0.017500 -0.434375   \n",
              "2 -0.970735 -0.963483 -0.939260  ... -0.640736 -0.034956  0.202302  0.064103   \n",
              "3 -0.974471 -0.968897 -0.938610  ... -0.736124 -0.017067  0.154438  0.340134   \n",
              "4 -0.965953 -0.977346 -0.938610  ... -0.846595 -0.002223 -0.040046  0.736715   \n",
              "\n",
              "        557       558       559       560  Subject  activity  \n",
              "0  0.271151 -0.720009  0.276801 -0.057978        2         5  \n",
              "1  0.920593 -0.698091  0.281343 -0.083898        2         5  \n",
              "2  0.145068 -0.702771  0.280083 -0.079346        2         5  \n",
              "3  0.296407 -0.698954  0.284114 -0.077108        2         5  \n",
              "4 -0.118545 -0.692245  0.290722 -0.073857        2         5  \n",
              "\n",
              "[5 rows x 563 columns]"
            ],
            "text/html": [
              "\n",
              "  <div id=\"df-1457e4ec-93a9-447d-9c07-bb1f379b6780\">\n",
              "    <div class=\"colab-df-container\">\n",
              "      <div>\n",
              "<style scoped>\n",
              "    .dataframe tbody tr th:only-of-type {\n",
              "        vertical-align: middle;\n",
              "    }\n",
              "\n",
              "    .dataframe tbody tr th {\n",
              "        vertical-align: top;\n",
              "    }\n",
              "\n",
              "    .dataframe thead th {\n",
              "        text-align: right;\n",
              "    }\n",
              "</style>\n",
              "<table border=\"1\" class=\"dataframe\">\n",
              "  <thead>\n",
              "    <tr style=\"text-align: right;\">\n",
              "      <th></th>\n",
              "      <th>0</th>\n",
              "      <th>1</th>\n",
              "      <th>2</th>\n",
              "      <th>3</th>\n",
              "      <th>4</th>\n",
              "      <th>5</th>\n",
              "      <th>6</th>\n",
              "      <th>7</th>\n",
              "      <th>8</th>\n",
              "      <th>9</th>\n",
              "      <th>...</th>\n",
              "      <th>553</th>\n",
              "      <th>554</th>\n",
              "      <th>555</th>\n",
              "      <th>556</th>\n",
              "      <th>557</th>\n",
              "      <th>558</th>\n",
              "      <th>559</th>\n",
              "      <th>560</th>\n",
              "      <th>Subject</th>\n",
              "      <th>activity</th>\n",
              "    </tr>\n",
              "  </thead>\n",
              "  <tbody>\n",
              "    <tr>\n",
              "      <th>0</th>\n",
              "      <td>0.257178</td>\n",
              "      <td>-0.023285</td>\n",
              "      <td>-0.014654</td>\n",
              "      <td>-0.938404</td>\n",
              "      <td>-0.920091</td>\n",
              "      <td>-0.667683</td>\n",
              "      <td>-0.952501</td>\n",
              "      <td>-0.925249</td>\n",
              "      <td>-0.674302</td>\n",
              "      <td>-0.894088</td>\n",
              "      <td>...</td>\n",
              "      <td>-0.705974</td>\n",
              "      <td>0.006462</td>\n",
              "      <td>0.162920</td>\n",
              "      <td>-0.825886</td>\n",
              "      <td>0.271151</td>\n",
              "      <td>-0.720009</td>\n",
              "      <td>0.276801</td>\n",
              "      <td>-0.057978</td>\n",
              "      <td>2</td>\n",
              "      <td>5</td>\n",
              "    </tr>\n",
              "    <tr>\n",
              "      <th>1</th>\n",
              "      <td>0.286027</td>\n",
              "      <td>-0.013163</td>\n",
              "      <td>-0.119083</td>\n",
              "      <td>-0.975415</td>\n",
              "      <td>-0.967458</td>\n",
              "      <td>-0.944958</td>\n",
              "      <td>-0.986799</td>\n",
              "      <td>-0.968401</td>\n",
              "      <td>-0.945823</td>\n",
              "      <td>-0.894088</td>\n",
              "      <td>...</td>\n",
              "      <td>-0.594944</td>\n",
              "      <td>-0.083495</td>\n",
              "      <td>0.017500</td>\n",
              "      <td>-0.434375</td>\n",
              "      <td>0.920593</td>\n",
              "      <td>-0.698091</td>\n",
              "      <td>0.281343</td>\n",
              "      <td>-0.083898</td>\n",
              "      <td>2</td>\n",
              "      <td>5</td>\n",
              "    </tr>\n",
              "    <tr>\n",
              "      <th>2</th>\n",
              "      <td>0.275485</td>\n",
              "      <td>-0.026050</td>\n",
              "      <td>-0.118152</td>\n",
              "      <td>-0.993819</td>\n",
              "      <td>-0.969926</td>\n",
              "      <td>-0.962748</td>\n",
              "      <td>-0.994403</td>\n",
              "      <td>-0.970735</td>\n",
              "      <td>-0.963483</td>\n",
              "      <td>-0.939260</td>\n",
              "      <td>...</td>\n",
              "      <td>-0.640736</td>\n",
              "      <td>-0.034956</td>\n",
              "      <td>0.202302</td>\n",
              "      <td>0.064103</td>\n",
              "      <td>0.145068</td>\n",
              "      <td>-0.702771</td>\n",
              "      <td>0.280083</td>\n",
              "      <td>-0.079346</td>\n",
              "      <td>2</td>\n",
              "      <td>5</td>\n",
              "    </tr>\n",
              "    <tr>\n",
              "      <th>3</th>\n",
              "      <td>0.270298</td>\n",
              "      <td>-0.032614</td>\n",
              "      <td>-0.117520</td>\n",
              "      <td>-0.994743</td>\n",
              "      <td>-0.973268</td>\n",
              "      <td>-0.967091</td>\n",
              "      <td>-0.995274</td>\n",
              "      <td>-0.974471</td>\n",
              "      <td>-0.968897</td>\n",
              "      <td>-0.938610</td>\n",
              "      <td>...</td>\n",
              "      <td>-0.736124</td>\n",
              "      <td>-0.017067</td>\n",
              "      <td>0.154438</td>\n",
              "      <td>0.340134</td>\n",
              "      <td>0.296407</td>\n",
              "      <td>-0.698954</td>\n",
              "      <td>0.284114</td>\n",
              "      <td>-0.077108</td>\n",
              "      <td>2</td>\n",
              "      <td>5</td>\n",
              "    </tr>\n",
              "    <tr>\n",
              "      <th>4</th>\n",
              "      <td>0.274833</td>\n",
              "      <td>-0.027848</td>\n",
              "      <td>-0.129527</td>\n",
              "      <td>-0.993852</td>\n",
              "      <td>-0.967445</td>\n",
              "      <td>-0.978295</td>\n",
              "      <td>-0.994111</td>\n",
              "      <td>-0.965953</td>\n",
              "      <td>-0.977346</td>\n",
              "      <td>-0.938610</td>\n",
              "      <td>...</td>\n",
              "      <td>-0.846595</td>\n",
              "      <td>-0.002223</td>\n",
              "      <td>-0.040046</td>\n",
              "      <td>0.736715</td>\n",
              "      <td>-0.118545</td>\n",
              "      <td>-0.692245</td>\n",
              "      <td>0.290722</td>\n",
              "      <td>-0.073857</td>\n",
              "      <td>2</td>\n",
              "      <td>5</td>\n",
              "    </tr>\n",
              "  </tbody>\n",
              "</table>\n",
              "<p>5 rows × 563 columns</p>\n",
              "</div>\n",
              "      <button class=\"colab-df-convert\" onclick=\"convertToInteractive('df-1457e4ec-93a9-447d-9c07-bb1f379b6780')\"\n",
              "              title=\"Convert this dataframe to an interactive table.\"\n",
              "              style=\"display:none;\">\n",
              "        \n",
              "  <svg xmlns=\"http://www.w3.org/2000/svg\" height=\"24px\"viewBox=\"0 0 24 24\"\n",
              "       width=\"24px\">\n",
              "    <path d=\"M0 0h24v24H0V0z\" fill=\"none\"/>\n",
              "    <path d=\"M18.56 5.44l.94 2.06.94-2.06 2.06-.94-2.06-.94-.94-2.06-.94 2.06-2.06.94zm-11 1L8.5 8.5l.94-2.06 2.06-.94-2.06-.94L8.5 2.5l-.94 2.06-2.06.94zm10 10l.94 2.06.94-2.06 2.06-.94-2.06-.94-.94-2.06-.94 2.06-2.06.94z\"/><path d=\"M17.41 7.96l-1.37-1.37c-.4-.4-.92-.59-1.43-.59-.52 0-1.04.2-1.43.59L10.3 9.45l-7.72 7.72c-.78.78-.78 2.05 0 2.83L4 21.41c.39.39.9.59 1.41.59.51 0 1.02-.2 1.41-.59l7.78-7.78 2.81-2.81c.8-.78.8-2.07 0-2.86zM5.41 20L4 18.59l7.72-7.72 1.47 1.35L5.41 20z\"/>\n",
              "  </svg>\n",
              "      </button>\n",
              "      \n",
              "  <style>\n",
              "    .colab-df-container {\n",
              "      display:flex;\n",
              "      flex-wrap:wrap;\n",
              "      gap: 12px;\n",
              "    }\n",
              "\n",
              "    .colab-df-convert {\n",
              "      background-color: #E8F0FE;\n",
              "      border: none;\n",
              "      border-radius: 50%;\n",
              "      cursor: pointer;\n",
              "      display: none;\n",
              "      fill: #1967D2;\n",
              "      height: 32px;\n",
              "      padding: 0 0 0 0;\n",
              "      width: 32px;\n",
              "    }\n",
              "\n",
              "    .colab-df-convert:hover {\n",
              "      background-color: #E2EBFA;\n",
              "      box-shadow: 0px 1px 2px rgba(60, 64, 67, 0.3), 0px 1px 3px 1px rgba(60, 64, 67, 0.15);\n",
              "      fill: #174EA6;\n",
              "    }\n",
              "\n",
              "    [theme=dark] .colab-df-convert {\n",
              "      background-color: #3B4455;\n",
              "      fill: #D2E3FC;\n",
              "    }\n",
              "\n",
              "    [theme=dark] .colab-df-convert:hover {\n",
              "      background-color: #434B5C;\n",
              "      box-shadow: 0px 1px 3px 1px rgba(0, 0, 0, 0.15);\n",
              "      filter: drop-shadow(0px 1px 2px rgba(0, 0, 0, 0.3));\n",
              "      fill: #FFFFFF;\n",
              "    }\n",
              "  </style>\n",
              "\n",
              "      <script>\n",
              "        const buttonEl =\n",
              "          document.querySelector('#df-1457e4ec-93a9-447d-9c07-bb1f379b6780 button.colab-df-convert');\n",
              "        buttonEl.style.display =\n",
              "          google.colab.kernel.accessAllowed ? 'block' : 'none';\n",
              "\n",
              "        async function convertToInteractive(key) {\n",
              "          const element = document.querySelector('#df-1457e4ec-93a9-447d-9c07-bb1f379b6780');\n",
              "          const dataTable =\n",
              "            await google.colab.kernel.invokeFunction('convertToInteractive',\n",
              "                                                     [key], {});\n",
              "          if (!dataTable) return;\n",
              "\n",
              "          const docLinkHtml = 'Like what you see? Visit the ' +\n",
              "            '<a target=\"_blank\" href=https://colab.research.google.com/notebooks/data_table.ipynb>data table notebook</a>'\n",
              "            + ' to learn more about interactive tables.';\n",
              "          element.innerHTML = '';\n",
              "          dataTable['output_type'] = 'display_data';\n",
              "          await google.colab.output.renderOutput(dataTable, element);\n",
              "          const docLink = document.createElement('div');\n",
              "          docLink.innerHTML = docLinkHtml;\n",
              "          element.appendChild(docLink);\n",
              "        }\n",
              "      </script>\n",
              "    </div>\n",
              "  </div>\n",
              "  "
            ]
          },
          "metadata": {},
          "execution_count": 139
        }
      ]
    },
    {
      "cell_type": "markdown",
      "source": [
        "# **LSTM**"
      ],
      "metadata": {
        "id": "p_TY8v2iSW4i"
      }
    },
    {
      "cell_type": "code",
      "source": [
        "from keras.models import Sequential\n",
        "from keras.layers import Dense\n",
        "from keras.layers import LSTM, Flatten,Dropout"
      ],
      "metadata": {
        "id": "DCiU7GYUX4Sg"
      },
      "execution_count": null,
      "outputs": []
    },
    {
      "cell_type": "code",
      "source": [
        "training_data = []"
      ],
      "metadata": {
        "id": "6Jap6Sj4AYGj"
      },
      "execution_count": null,
      "outputs": []
    },
    {
      "cell_type": "code",
      "source": [
        "sensors_data=['body_acc_x_train','body_acc_y_train','body_acc_z_train','body_gyro_x_train','body_gyro_y_train',\n",
        "                   'body_gyro_z_train','total_acc_x_train','total_acc_y_train','total_acc_z_train']\n",
        "     "
      ],
      "metadata": {
        "id": "LCGjubt2iIEC"
      },
      "execution_count": null,
      "outputs": []
    },
    {
      "cell_type": "code",
      "source": [
        "for fn in sensors_data:\n",
        "  training_data.append(np.array(pd.read_csv(\"/content/gdrive/MyDrive/Employee_Security_System/UCI HAR Dataset/train/Inertial Signals/\"+fn+\".txt\",delim_whitespace=True,header=None)))"
      ],
      "metadata": {
        "id": "VvF4IpTAbCVx"
      },
      "execution_count": null,
      "outputs": []
    },
    {
      "cell_type": "code",
      "source": [
        "np.array(training_data).shape"
      ],
      "metadata": {
        "colab": {
          "base_uri": "https://localhost:8080/"
        },
        "id": "b55bUhPYi4si",
        "outputId": "50b90dea-cb53-44a1-fffc-8972ce050ce8"
      },
      "execution_count": null,
      "outputs": [
        {
          "output_type": "execute_result",
          "data": {
            "text/plain": [
              "(9, 7352, 128)"
            ]
          },
          "metadata": {},
          "execution_count": 120
        }
      ]
    },
    {
      "cell_type": "code",
      "source": [
        "np.transpose(training_data,(1,2,0)).shape"
      ],
      "metadata": {
        "colab": {
          "base_uri": "https://localhost:8080/"
        },
        "id": "xL_1jgO7i6s9",
        "outputId": "1ad6753d-4fa5-4f5c-a4ab-e8c3f7465664"
      },
      "execution_count": null,
      "outputs": [
        {
          "output_type": "execute_result",
          "data": {
            "text/plain": [
              "(7352, 128, 9)"
            ]
          },
          "metadata": {},
          "execution_count": 121
        }
      ]
    },
    {
      "cell_type": "code",
      "source": [
        "training_data = np.transpose(training_data,(1,2,0))"
      ],
      "metadata": {
        "id": "xaaQ9uiWjMzj"
      },
      "execution_count": null,
      "outputs": []
    },
    {
      "cell_type": "code",
      "source": [
        "training_labels = pd.read_csv(\"/content/gdrive/MyDrive/Employee_Security_System/UCI HAR Dataset/train/y_train.txt\", header = None)"
      ],
      "metadata": {
        "id": "Bhcngewkj9xV"
      },
      "execution_count": null,
      "outputs": []
    },
    {
      "cell_type": "code",
      "source": [
        "training_labels = training_labels - 1"
      ],
      "metadata": {
        "id": "hb7TG0BOlAdm"
      },
      "execution_count": null,
      "outputs": []
    },
    {
      "cell_type": "code",
      "source": [
        "training_labels = np.array(training_labels)"
      ],
      "metadata": {
        "id": "XurFC5u2lNB-"
      },
      "execution_count": null,
      "outputs": []
    },
    {
      "cell_type": "code",
      "source": [
        "testing_data = []"
      ],
      "metadata": {
        "id": "yRvJdzMQmCoH"
      },
      "execution_count": null,
      "outputs": []
    },
    {
      "cell_type": "code",
      "source": [
        "sensor_data = ['body_acc_x_test','body_acc_y_test','body_acc_z_test','body_gyro_x_test','body_gyro_y_test',\n",
        "                   'body_gyro_z_test','total_acc_x_test','total_acc_y_test','total_acc_z_test']"
      ],
      "metadata": {
        "id": "5faxzzjfnJgK"
      },
      "execution_count": null,
      "outputs": []
    },
    {
      "cell_type": "code",
      "source": [
        "for fn in sensor_data:\n",
        "  testing_data.append(np.array(pd.read_csv(\"/content/gdrive/MyDrive/Employee_Security_System/UCI HAR Dataset/test/Inertial Signals/\" + fn + \".txt\", delim_whitespace = True, header = None)))"
      ],
      "metadata": {
        "id": "Nx613I-2mLz8"
      },
      "execution_count": null,
      "outputs": []
    },
    {
      "cell_type": "code",
      "source": [
        "np.array(testing_data).shape"
      ],
      "metadata": {
        "colab": {
          "base_uri": "https://localhost:8080/"
        },
        "id": "Xi6Fj9rkmrW8",
        "outputId": "53641b41-3458-4b92-c647-9714964ef265"
      },
      "execution_count": null,
      "outputs": [
        {
          "output_type": "execute_result",
          "data": {
            "text/plain": [
              "(9, 2947, 128)"
            ]
          },
          "metadata": {},
          "execution_count": 129
        }
      ]
    },
    {
      "cell_type": "code",
      "source": [
        "np.transpose(testing_data, (1,2,0)).shape"
      ],
      "metadata": {
        "colab": {
          "base_uri": "https://localhost:8080/"
        },
        "id": "2gTEYMJIoHF9",
        "outputId": "981e91cf-24bf-4b93-bab8-1a8c84d4a7b1"
      },
      "execution_count": null,
      "outputs": [
        {
          "output_type": "execute_result",
          "data": {
            "text/plain": [
              "(2947, 128, 9)"
            ]
          },
          "metadata": {},
          "execution_count": 130
        }
      ]
    },
    {
      "cell_type": "code",
      "source": [
        "testing_data = np.transpose(testing_data,(1,2,0))"
      ],
      "metadata": {
        "id": "sMl1X2g1oSgk"
      },
      "execution_count": null,
      "outputs": []
    },
    {
      "cell_type": "code",
      "source": [
        "testing_labels = pd.read_csv(\"/content/gdrive/MyDrive/Employee_Security_System/UCI HAR Dataset/test/y_test.txt\", header = None)"
      ],
      "metadata": {
        "id": "VH0RE0DDolYG"
      },
      "execution_count": null,
      "outputs": []
    },
    {
      "cell_type": "code",
      "source": [
        "testing_labels = testing_labels - 1"
      ],
      "metadata": {
        "id": "A6VBq06xpHcm"
      },
      "execution_count": null,
      "outputs": []
    },
    {
      "cell_type": "code",
      "source": [
        "testing_labels = np.array(testing_labels)"
      ],
      "metadata": {
        "id": "lwLrRP5vpbIe"
      },
      "execution_count": null,
      "outputs": []
    },
    {
      "cell_type": "code",
      "source": [
        "from keras.utils.np_utils import to_categorical\n"
      ],
      "metadata": {
        "id": "mK1GubsspmJV"
      },
      "execution_count": null,
      "outputs": []
    },
    {
      "cell_type": "code",
      "source": [
        "train_labels_cat=to_categorical(training_labels)"
      ],
      "metadata": {
        "id": "KQPnawsyp58M"
      },
      "execution_count": null,
      "outputs": []
    },
    {
      "cell_type": "code",
      "source": [
        "test_labels_cat=to_categorical(testing_labels)"
      ],
      "metadata": {
        "id": "2TSjMSTsp897"
      },
      "execution_count": null,
      "outputs": []
    },
    {
      "cell_type": "code",
      "source": [
        "train_labels_cat.shape"
      ],
      "metadata": {
        "colab": {
          "base_uri": "https://localhost:8080/"
        },
        "id": "WBMFsTdUp-Wz",
        "outputId": "332b0207-f81e-4a80-915f-ae1166ff87ea"
      },
      "execution_count": null,
      "outputs": [
        {
          "output_type": "execute_result",
          "data": {
            "text/plain": [
              "(7352, 6)"
            ]
          },
          "metadata": {},
          "execution_count": 138
        }
      ]
    },
    {
      "cell_type": "code",
      "source": [
        "test_labels_cat.shape"
      ],
      "metadata": {
        "colab": {
          "base_uri": "https://localhost:8080/"
        },
        "id": "l6dpB_UTqBbf",
        "outputId": "b3ddcf96-fc2e-4672-8b74-3d7154fcb3dc"
      },
      "execution_count": null,
      "outputs": [
        {
          "output_type": "execute_result",
          "data": {
            "text/plain": [
              "(2947, 6)"
            ]
          },
          "metadata": {},
          "execution_count": 139
        }
      ]
    },
    {
      "cell_type": "code",
      "source": [
        "training_data.shape"
      ],
      "metadata": {
        "colab": {
          "base_uri": "https://localhost:8080/"
        },
        "id": "KUmgHlWIWtl7",
        "outputId": "1f4d7779-ed41-4884-e4be-37dec11aa745"
      },
      "execution_count": null,
      "outputs": [
        {
          "output_type": "execute_result",
          "data": {
            "text/plain": [
              "(7352, 128, 9)"
            ]
          },
          "metadata": {},
          "execution_count": 140
        }
      ]
    },
    {
      "cell_type": "code",
      "source": [
        "model = Sequential()\n",
        "model.add(LSTM(128,return_sequences = True, input_shape = (128,9)))\n",
        "model.add(Dropout(0.2))\n",
        "model.add(LSTM(64))\n",
        "model.add(Dropout(0.2))\n",
        "model.add(Dense(6, activation = 'softmax'))"
      ],
      "metadata": {
        "id": "P5s2EW7vqEL2"
      },
      "execution_count": null,
      "outputs": []
    },
    {
      "cell_type": "code",
      "source": [
        "model.summary()"
      ],
      "metadata": {
        "colab": {
          "base_uri": "https://localhost:8080/"
        },
        "id": "8IEeMf4jrwmX",
        "outputId": "3cde3a31-5359-4451-8126-8518010ff76e"
      },
      "execution_count": null,
      "outputs": [
        {
          "output_type": "stream",
          "name": "stdout",
          "text": [
            "Model: \"sequential_3\"\n",
            "_________________________________________________________________\n",
            " Layer (type)                Output Shape              Param #   \n",
            "=================================================================\n",
            " lstm_6 (LSTM)               (None, 128, 128)          70656     \n",
            "                                                                 \n",
            " dropout_6 (Dropout)         (None, 128, 128)          0         \n",
            "                                                                 \n",
            " lstm_7 (LSTM)               (None, 64)                49408     \n",
            "                                                                 \n",
            " dropout_7 (Dropout)         (None, 64)                0         \n",
            "                                                                 \n",
            " dense_3 (Dense)             (None, 6)                 390       \n",
            "                                                                 \n",
            "=================================================================\n",
            "Total params: 120,454\n",
            "Trainable params: 120,454\n",
            "Non-trainable params: 0\n",
            "_________________________________________________________________\n"
          ]
        }
      ]
    },
    {
      "cell_type": "code",
      "source": [
        "model.compile(loss='categorical_crossentropy',metrics=['accuracy'])"
      ],
      "metadata": {
        "id": "2gfleCKhrzBc"
      },
      "execution_count": null,
      "outputs": []
    },
    {
      "cell_type": "code",
      "source": [
        "model.fit(training_data,train_labels_cat,epochs=100,validation_split= 0.05)"
      ],
      "metadata": {
        "colab": {
          "base_uri": "https://localhost:8080/"
        },
        "id": "GDIo2ssTsHI6",
        "outputId": "d895b317-f8b9-42eb-9e3e-8705862c2947"
      },
      "execution_count": null,
      "outputs": [
        {
          "output_type": "stream",
          "name": "stdout",
          "text": [
            "Epoch 1/100\n",
            "219/219 [==============================] - 12s 18ms/step - loss: 0.8617 - accuracy: 0.6481 - val_loss: 0.5588 - val_accuracy: 0.7908\n",
            "Epoch 2/100\n",
            "219/219 [==============================] - 3s 15ms/step - loss: 0.4034 - accuracy: 0.8617 - val_loss: 0.2426 - val_accuracy: 0.8940\n",
            "Epoch 3/100\n",
            "219/219 [==============================] - 3s 15ms/step - loss: 0.2445 - accuracy: 0.9194 - val_loss: 0.2204 - val_accuracy: 0.8967\n",
            "Epoch 4/100\n",
            "219/219 [==============================] - 3s 15ms/step - loss: 0.1716 - accuracy: 0.9391 - val_loss: 0.1286 - val_accuracy: 0.9511\n",
            "Epoch 5/100\n",
            "219/219 [==============================] - 4s 18ms/step - loss: 0.1520 - accuracy: 0.9464 - val_loss: 0.1553 - val_accuracy: 0.9457\n",
            "Epoch 6/100\n",
            "219/219 [==============================] - 3s 15ms/step - loss: 0.1535 - accuracy: 0.9487 - val_loss: 0.1312 - val_accuracy: 0.9538\n",
            "Epoch 7/100\n",
            "219/219 [==============================] - 3s 15ms/step - loss: 0.1483 - accuracy: 0.9469 - val_loss: 0.1612 - val_accuracy: 0.9103\n",
            "Epoch 8/100\n",
            "219/219 [==============================] - 3s 15ms/step - loss: 0.1371 - accuracy: 0.9480 - val_loss: 0.1156 - val_accuracy: 0.9212\n",
            "Epoch 9/100\n",
            "219/219 [==============================] - 3s 15ms/step - loss: 0.1216 - accuracy: 0.9506 - val_loss: 0.1223 - val_accuracy: 0.9185\n",
            "Epoch 10/100\n",
            "219/219 [==============================] - 3s 15ms/step - loss: 0.1350 - accuracy: 0.9512 - val_loss: 0.1043 - val_accuracy: 0.9565\n",
            "Epoch 11/100\n",
            "219/219 [==============================] - 3s 15ms/step - loss: 0.1282 - accuracy: 0.9505 - val_loss: 0.1720 - val_accuracy: 0.9130\n",
            "Epoch 12/100\n",
            "219/219 [==============================] - 3s 15ms/step - loss: 0.1278 - accuracy: 0.9507 - val_loss: 0.1135 - val_accuracy: 0.9565\n",
            "Epoch 13/100\n",
            "219/219 [==============================] - 3s 15ms/step - loss: 0.1255 - accuracy: 0.9490 - val_loss: 0.1281 - val_accuracy: 0.9538\n",
            "Epoch 14/100\n",
            "219/219 [==============================] - 3s 15ms/step - loss: 0.1199 - accuracy: 0.9517 - val_loss: 0.1204 - val_accuracy: 0.9212\n",
            "Epoch 15/100\n",
            "219/219 [==============================] - 3s 15ms/step - loss: 0.1146 - accuracy: 0.9560 - val_loss: 0.1249 - val_accuracy: 0.9538\n",
            "Epoch 16/100\n",
            "219/219 [==============================] - 3s 15ms/step - loss: 0.1247 - accuracy: 0.9519 - val_loss: 0.1194 - val_accuracy: 0.9511\n",
            "Epoch 17/100\n",
            "219/219 [==============================] - 3s 15ms/step - loss: 0.1208 - accuracy: 0.9530 - val_loss: 0.1392 - val_accuracy: 0.9158\n",
            "Epoch 18/100\n",
            "219/219 [==============================] - 3s 15ms/step - loss: 0.1161 - accuracy: 0.9535 - val_loss: 0.1073 - val_accuracy: 0.9538\n",
            "Epoch 19/100\n",
            "219/219 [==============================] - 3s 15ms/step - loss: 0.1267 - accuracy: 0.9523 - val_loss: 0.1664 - val_accuracy: 0.9130\n",
            "Epoch 20/100\n",
            "219/219 [==============================] - 3s 15ms/step - loss: 0.1132 - accuracy: 0.9556 - val_loss: 0.1199 - val_accuracy: 0.9185\n",
            "Epoch 21/100\n",
            "219/219 [==============================] - 3s 15ms/step - loss: 0.1211 - accuracy: 0.9496 - val_loss: 0.1890 - val_accuracy: 0.9212\n",
            "Epoch 22/100\n",
            "219/219 [==============================] - 3s 15ms/step - loss: 0.1145 - accuracy: 0.9546 - val_loss: 0.1452 - val_accuracy: 0.9130\n",
            "Epoch 23/100\n",
            "219/219 [==============================] - 3s 15ms/step - loss: 0.1192 - accuracy: 0.9566 - val_loss: 0.1531 - val_accuracy: 0.9565\n",
            "Epoch 24/100\n",
            "219/219 [==============================] - 3s 15ms/step - loss: 0.1156 - accuracy: 0.9525 - val_loss: 0.1048 - val_accuracy: 0.9185\n",
            "Epoch 25/100\n",
            "219/219 [==============================] - 3s 15ms/step - loss: 0.1107 - accuracy: 0.9559 - val_loss: 0.1166 - val_accuracy: 0.9538\n",
            "Epoch 26/100\n",
            "219/219 [==============================] - 3s 15ms/step - loss: 0.1068 - accuracy: 0.9580 - val_loss: 0.2847 - val_accuracy: 0.9185\n",
            "Epoch 27/100\n",
            "219/219 [==============================] - 3s 15ms/step - loss: 0.1097 - accuracy: 0.9558 - val_loss: 0.1100 - val_accuracy: 0.9212\n",
            "Epoch 28/100\n",
            "219/219 [==============================] - 3s 15ms/step - loss: 0.1149 - accuracy: 0.9565 - val_loss: 0.1123 - val_accuracy: 0.9321\n",
            "Epoch 29/100\n",
            "219/219 [==============================] - 4s 20ms/step - loss: 0.1140 - accuracy: 0.9576 - val_loss: 0.0826 - val_accuracy: 0.9592\n",
            "Epoch 30/100\n",
            "219/219 [==============================] - 3s 15ms/step - loss: 0.1099 - accuracy: 0.9536 - val_loss: 0.1283 - val_accuracy: 0.9130\n",
            "Epoch 31/100\n",
            "219/219 [==============================] - 3s 15ms/step - loss: 0.1146 - accuracy: 0.9579 - val_loss: 0.0806 - val_accuracy: 0.9592\n",
            "Epoch 32/100\n",
            "219/219 [==============================] - 3s 15ms/step - loss: 0.1117 - accuracy: 0.9542 - val_loss: 0.0989 - val_accuracy: 0.9592\n",
            "Epoch 33/100\n",
            "219/219 [==============================] - 3s 15ms/step - loss: 0.1113 - accuracy: 0.9556 - val_loss: 0.1416 - val_accuracy: 0.9538\n",
            "Epoch 34/100\n",
            "219/219 [==============================] - 3s 15ms/step - loss: 0.1071 - accuracy: 0.9573 - val_loss: 0.0858 - val_accuracy: 0.9538\n",
            "Epoch 35/100\n",
            "219/219 [==============================] - 3s 15ms/step - loss: 0.1037 - accuracy: 0.9569 - val_loss: 0.0896 - val_accuracy: 0.9511\n",
            "Epoch 36/100\n",
            "219/219 [==============================] - 3s 16ms/step - loss: 0.1111 - accuracy: 0.9517 - val_loss: 0.0984 - val_accuracy: 0.9565\n",
            "Epoch 37/100\n",
            "219/219 [==============================] - 3s 15ms/step - loss: 0.1088 - accuracy: 0.9566 - val_loss: 0.1233 - val_accuracy: 0.9185\n",
            "Epoch 38/100\n",
            "219/219 [==============================] - 3s 15ms/step - loss: 0.1019 - accuracy: 0.9593 - val_loss: 0.1705 - val_accuracy: 0.9212\n",
            "Epoch 39/100\n",
            "219/219 [==============================] - 3s 15ms/step - loss: 0.1086 - accuracy: 0.9536 - val_loss: 0.1132 - val_accuracy: 0.9457\n",
            "Epoch 40/100\n",
            "219/219 [==============================] - 3s 15ms/step - loss: 0.1163 - accuracy: 0.9579 - val_loss: 0.1390 - val_accuracy: 0.9647\n",
            "Epoch 41/100\n",
            "219/219 [==============================] - 3s 15ms/step - loss: 0.1450 - accuracy: 0.9460 - val_loss: 0.1385 - val_accuracy: 0.9375\n",
            "Epoch 42/100\n",
            "219/219 [==============================] - 3s 15ms/step - loss: 0.1055 - accuracy: 0.9565 - val_loss: 0.1662 - val_accuracy: 0.9592\n",
            "Epoch 43/100\n",
            "219/219 [==============================] - 3s 15ms/step - loss: 0.1006 - accuracy: 0.9570 - val_loss: 0.0887 - val_accuracy: 0.9592\n",
            "Epoch 44/100\n",
            "219/219 [==============================] - 3s 15ms/step - loss: 0.1063 - accuracy: 0.9558 - val_loss: 0.1060 - val_accuracy: 0.9266\n",
            "Epoch 45/100\n",
            "219/219 [==============================] - 3s 16ms/step - loss: 0.0991 - accuracy: 0.9596 - val_loss: 0.1158 - val_accuracy: 0.9592\n",
            "Epoch 46/100\n",
            "219/219 [==============================] - 3s 15ms/step - loss: 0.1038 - accuracy: 0.9590 - val_loss: 0.0999 - val_accuracy: 0.9239\n",
            "Epoch 47/100\n",
            "219/219 [==============================] - 3s 15ms/step - loss: 0.1010 - accuracy: 0.9568 - val_loss: 0.1490 - val_accuracy: 0.9592\n",
            "Epoch 48/100\n",
            "219/219 [==============================] - 3s 15ms/step - loss: 0.1019 - accuracy: 0.9582 - val_loss: 0.0856 - val_accuracy: 0.9538\n",
            "Epoch 49/100\n",
            "219/219 [==============================] - 3s 15ms/step - loss: 0.1052 - accuracy: 0.9570 - val_loss: 0.0799 - val_accuracy: 0.9592\n",
            "Epoch 50/100\n",
            "219/219 [==============================] - 3s 15ms/step - loss: 0.0995 - accuracy: 0.9582 - val_loss: 0.0756 - val_accuracy: 0.9592\n",
            "Epoch 51/100\n",
            "219/219 [==============================] - 3s 15ms/step - loss: 0.1019 - accuracy: 0.9603 - val_loss: 0.0783 - val_accuracy: 0.9592\n",
            "Epoch 52/100\n",
            "219/219 [==============================] - 3s 15ms/step - loss: 0.1103 - accuracy: 0.9583 - val_loss: 0.2013 - val_accuracy: 0.9212\n",
            "Epoch 53/100\n",
            "219/219 [==============================] - 3s 15ms/step - loss: 0.1112 - accuracy: 0.9562 - val_loss: 0.1551 - val_accuracy: 0.9592\n",
            "Epoch 54/100\n",
            "219/219 [==============================] - 3s 15ms/step - loss: 0.1037 - accuracy: 0.9575 - val_loss: 0.1614 - val_accuracy: 0.9348\n",
            "Epoch 55/100\n",
            "219/219 [==============================] - 3s 15ms/step - loss: 0.1054 - accuracy: 0.9549 - val_loss: 0.1597 - val_accuracy: 0.9212\n",
            "Epoch 56/100\n",
            "219/219 [==============================] - 3s 15ms/step - loss: 0.0993 - accuracy: 0.9586 - val_loss: 0.0842 - val_accuracy: 0.9565\n",
            "Epoch 57/100\n",
            "219/219 [==============================] - 3s 15ms/step - loss: 0.0984 - accuracy: 0.9603 - val_loss: 0.0990 - val_accuracy: 0.9429\n",
            "Epoch 58/100\n",
            "219/219 [==============================] - 3s 15ms/step - loss: 0.0935 - accuracy: 0.9595 - val_loss: 0.0785 - val_accuracy: 0.9620\n",
            "Epoch 59/100\n",
            "219/219 [==============================] - 3s 15ms/step - loss: 0.0996 - accuracy: 0.9588 - val_loss: 0.0981 - val_accuracy: 0.9891\n",
            "Epoch 60/100\n",
            "219/219 [==============================] - 3s 15ms/step - loss: 0.0973 - accuracy: 0.9596 - val_loss: 0.0980 - val_accuracy: 0.9185\n",
            "Epoch 61/100\n",
            "219/219 [==============================] - 3s 15ms/step - loss: 0.0962 - accuracy: 0.9585 - val_loss: 0.0847 - val_accuracy: 0.9348\n",
            "Epoch 62/100\n",
            "219/219 [==============================] - 3s 15ms/step - loss: 0.0944 - accuracy: 0.9588 - val_loss: 0.1303 - val_accuracy: 0.9592\n",
            "Epoch 63/100\n",
            "219/219 [==============================] - 3s 15ms/step - loss: 0.0918 - accuracy: 0.9613 - val_loss: 0.0949 - val_accuracy: 0.9620\n",
            "Epoch 64/100\n",
            "219/219 [==============================] - 3s 15ms/step - loss: 0.0907 - accuracy: 0.9615 - val_loss: 0.1954 - val_accuracy: 0.9565\n",
            "Epoch 65/100\n",
            "219/219 [==============================] - 3s 15ms/step - loss: 0.0901 - accuracy: 0.9635 - val_loss: 0.0868 - val_accuracy: 0.9375\n",
            "Epoch 66/100\n",
            "219/219 [==============================] - 3s 15ms/step - loss: 0.0845 - accuracy: 0.9616 - val_loss: 0.1700 - val_accuracy: 0.9022\n",
            "Epoch 67/100\n",
            "219/219 [==============================] - 3s 15ms/step - loss: 0.0909 - accuracy: 0.9609 - val_loss: 0.0826 - val_accuracy: 0.9212\n",
            "Epoch 68/100\n",
            "219/219 [==============================] - 3s 15ms/step - loss: 0.0865 - accuracy: 0.9625 - val_loss: 0.1496 - val_accuracy: 0.9647\n",
            "Epoch 69/100\n",
            "219/219 [==============================] - 4s 19ms/step - loss: 0.0887 - accuracy: 0.9645 - val_loss: 0.1378 - val_accuracy: 0.9130\n",
            "Epoch 70/100\n",
            "219/219 [==============================] - 3s 16ms/step - loss: 0.0916 - accuracy: 0.9623 - val_loss: 0.0666 - val_accuracy: 0.9647\n",
            "Epoch 71/100\n",
            "219/219 [==============================] - 3s 15ms/step - loss: 0.0840 - accuracy: 0.9618 - val_loss: 0.0751 - val_accuracy: 0.9647\n",
            "Epoch 72/100\n",
            "219/219 [==============================] - 3s 16ms/step - loss: 0.0766 - accuracy: 0.9661 - val_loss: 0.0939 - val_accuracy: 0.9402\n",
            "Epoch 73/100\n",
            "219/219 [==============================] - 3s 15ms/step - loss: 0.0872 - accuracy: 0.9646 - val_loss: 0.0895 - val_accuracy: 0.9402\n",
            "Epoch 74/100\n",
            "219/219 [==============================] - 3s 15ms/step - loss: 0.1001 - accuracy: 0.9601 - val_loss: 0.1218 - val_accuracy: 0.9565\n",
            "Epoch 75/100\n",
            "219/219 [==============================] - 3s 15ms/step - loss: 0.0979 - accuracy: 0.9596 - val_loss: 0.1853 - val_accuracy: 0.9620\n",
            "Epoch 76/100\n",
            "219/219 [==============================] - 3s 15ms/step - loss: 0.0813 - accuracy: 0.9635 - val_loss: 0.0811 - val_accuracy: 0.9348\n",
            "Epoch 77/100\n",
            "219/219 [==============================] - 3s 15ms/step - loss: 0.0757 - accuracy: 0.9649 - val_loss: 0.0790 - val_accuracy: 0.9293\n",
            "Epoch 78/100\n",
            "219/219 [==============================] - 3s 15ms/step - loss: 0.0820 - accuracy: 0.9629 - val_loss: 0.0804 - val_accuracy: 0.9620\n",
            "Epoch 79/100\n",
            "219/219 [==============================] - 3s 15ms/step - loss: 0.0803 - accuracy: 0.9656 - val_loss: 0.1430 - val_accuracy: 0.8940\n",
            "Epoch 80/100\n",
            "219/219 [==============================] - 3s 15ms/step - loss: 0.0805 - accuracy: 0.9676 - val_loss: 0.1215 - val_accuracy: 0.9266\n",
            "Epoch 81/100\n",
            "219/219 [==============================] - 3s 15ms/step - loss: 0.0897 - accuracy: 0.9598 - val_loss: 0.0812 - val_accuracy: 0.9701\n",
            "Epoch 82/100\n",
            "219/219 [==============================] - 3s 15ms/step - loss: 0.0838 - accuracy: 0.9653 - val_loss: 0.2016 - val_accuracy: 0.9375\n",
            "Epoch 83/100\n",
            "219/219 [==============================] - 3s 15ms/step - loss: 0.0854 - accuracy: 0.9645 - val_loss: 0.0917 - val_accuracy: 0.9212\n",
            "Epoch 84/100\n",
            "219/219 [==============================] - 3s 15ms/step - loss: 0.0808 - accuracy: 0.9656 - val_loss: 0.2444 - val_accuracy: 0.9511\n",
            "Epoch 85/100\n",
            "219/219 [==============================] - 3s 15ms/step - loss: 0.0890 - accuracy: 0.9642 - val_loss: 0.1476 - val_accuracy: 0.9348\n",
            "Epoch 86/100\n",
            "219/219 [==============================] - 3s 15ms/step - loss: 0.0921 - accuracy: 0.9653 - val_loss: 0.1403 - val_accuracy: 0.9239\n",
            "Epoch 87/100\n",
            "219/219 [==============================] - 3s 15ms/step - loss: 0.0949 - accuracy: 0.9628 - val_loss: 0.0883 - val_accuracy: 0.9674\n",
            "Epoch 88/100\n",
            "219/219 [==============================] - 3s 15ms/step - loss: 0.0866 - accuracy: 0.9641 - val_loss: 0.1393 - val_accuracy: 0.9321\n",
            "Epoch 89/100\n",
            "219/219 [==============================] - 3s 15ms/step - loss: 0.0792 - accuracy: 0.9668 - val_loss: 0.0720 - val_accuracy: 0.9239\n",
            "Epoch 90/100\n",
            "219/219 [==============================] - 3s 15ms/step - loss: 0.0874 - accuracy: 0.9638 - val_loss: 0.0755 - val_accuracy: 0.9701\n",
            "Epoch 91/100\n",
            "219/219 [==============================] - 3s 15ms/step - loss: 0.0787 - accuracy: 0.9686 - val_loss: 0.1049 - val_accuracy: 0.9429\n",
            "Epoch 92/100\n",
            "219/219 [==============================] - 3s 15ms/step - loss: 0.0793 - accuracy: 0.9672 - val_loss: 0.2398 - val_accuracy: 0.9022\n",
            "Epoch 93/100\n",
            "219/219 [==============================] - 3s 15ms/step - loss: 0.0860 - accuracy: 0.9665 - val_loss: 0.0824 - val_accuracy: 0.9728\n",
            "Epoch 94/100\n",
            "219/219 [==============================] - 3s 15ms/step - loss: 0.0910 - accuracy: 0.9651 - val_loss: 0.0909 - val_accuracy: 0.9701\n",
            "Epoch 95/100\n",
            "219/219 [==============================] - 3s 15ms/step - loss: 0.0755 - accuracy: 0.9669 - val_loss: 0.1774 - val_accuracy: 0.9348\n",
            "Epoch 96/100\n",
            "219/219 [==============================] - 3s 15ms/step - loss: 0.0736 - accuracy: 0.9688 - val_loss: 0.0956 - val_accuracy: 0.9457\n",
            "Epoch 97/100\n",
            "219/219 [==============================] - 3s 15ms/step - loss: 0.0741 - accuracy: 0.9689 - val_loss: 0.1494 - val_accuracy: 0.9647\n",
            "Epoch 98/100\n",
            "219/219 [==============================] - 3s 15ms/step - loss: 0.1162 - accuracy: 0.9609 - val_loss: 0.9412 - val_accuracy: 0.8207\n",
            "Epoch 99/100\n",
            "219/219 [==============================] - 3s 15ms/step - loss: 0.1324 - accuracy: 0.9496 - val_loss: 0.1953 - val_accuracy: 0.9321\n",
            "Epoch 100/100\n",
            "219/219 [==============================] - 3s 16ms/step - loss: 0.0817 - accuracy: 0.9629 - val_loss: 0.0860 - val_accuracy: 0.9402\n"
          ]
        },
        {
          "output_type": "execute_result",
          "data": {
            "text/plain": [
              "<keras.callbacks.History at 0x7fe688263340>"
            ]
          },
          "metadata": {},
          "execution_count": 144
        }
      ]
    },
    {
      "cell_type": "code",
      "source": [
        "prediction_label_cat = model.predict(testing_data)"
      ],
      "metadata": {
        "colab": {
          "base_uri": "https://localhost:8080/"
        },
        "id": "BUgseLB6vZ6a",
        "outputId": "44ef51cc-281e-4ee1-e720-fad927b22850"
      },
      "execution_count": null,
      "outputs": [
        {
          "output_type": "stream",
          "name": "stdout",
          "text": [
            "93/93 [==============================] - 1s 7ms/step\n"
          ]
        }
      ]
    },
    {
      "cell_type": "code",
      "source": [
        "prediction_label = np.argmax(prediction_label_cat, axis = 1)"
      ],
      "metadata": {
        "id": "C0fk3Z1hZT4F"
      },
      "execution_count": null,
      "outputs": []
    },
    {
      "cell_type": "code",
      "source": [
        "prediction_label"
      ],
      "metadata": {
        "colab": {
          "base_uri": "https://localhost:8080/"
        },
        "id": "tEc2yUdoZh_r",
        "outputId": "908cf574-7a5e-4279-a1c1-58013487ae27"
      },
      "execution_count": null,
      "outputs": [
        {
          "output_type": "execute_result",
          "data": {
            "text/plain": [
              "array([4, 4, 4, ..., 1, 1, 1])"
            ]
          },
          "metadata": {},
          "execution_count": 147
        }
      ]
    },
    {
      "cell_type": "code",
      "source": [
        "import sklearn.metrics as skm"
      ],
      "metadata": {
        "id": "-ClgXCSBZlbM"
      },
      "execution_count": null,
      "outputs": []
    },
    {
      "cell_type": "code",
      "source": [
        "skm.accuracy_score(testing_labels,prediction_label)"
      ],
      "metadata": {
        "colab": {
          "base_uri": "https://localhost:8080/"
        },
        "id": "k9fc6uyVZrq1",
        "outputId": "0ae25cc7-65d8-43b8-95f7-259a5526df0e"
      },
      "execution_count": null,
      "outputs": [
        {
          "output_type": "execute_result",
          "data": {
            "text/plain": [
              "0.9148286392941974"
            ]
          },
          "metadata": {},
          "execution_count": 151
        }
      ]
    },
    {
      "cell_type": "code",
      "source": [
        "print(skm.classification_report(testing_labels,prediction_label))"
      ],
      "metadata": {
        "colab": {
          "base_uri": "https://localhost:8080/"
        },
        "id": "sZb7VfLmZ13P",
        "outputId": "64a0d2fd-8afb-4cee-fbc4-371600e8d875"
      },
      "execution_count": null,
      "outputs": [
        {
          "output_type": "stream",
          "name": "stdout",
          "text": [
            "              precision    recall  f1-score   support\n",
            "\n",
            "           0       0.97      0.93      0.95       496\n",
            "           1       0.99      0.95      0.97       471\n",
            "           2       0.91      1.00      0.95       420\n",
            "           3       0.86      0.74      0.79       491\n",
            "           4       0.79      0.89      0.83       532\n",
            "           5       1.00      1.00      1.00       537\n",
            "\n",
            "    accuracy                           0.91      2947\n",
            "   macro avg       0.92      0.92      0.92      2947\n",
            "weighted avg       0.92      0.91      0.91      2947\n",
            "\n"
          ]
        }
      ]
    },
    {
      "cell_type": "code",
      "source": [
        "print(skm.confusion_matrix(testing_labels,prediction_label))"
      ],
      "metadata": {
        "colab": {
          "base_uri": "https://localhost:8080/"
        },
        "id": "ecct-jX3aDc1",
        "outputId": "663abfc7-40b4-4a42-ee4f-aca4bd22d3dd"
      },
      "execution_count": null,
      "outputs": [
        {
          "output_type": "stream",
          "name": "stdout",
          "text": [
            "[[461   4  31   0   0   0]\n",
            " [ 14 446   9   0   2   0]\n",
            " [  0   1 419   0   0   0]\n",
            " [  0   0   1 361 127   2]\n",
            " [  1   1   0  58 472   0]\n",
            " [  0   0   0   0   0 537]]\n"
          ]
        }
      ]
    },
    {
      "cell_type": "code",
      "source": [
        "model.save('LSTM.h5')"
      ],
      "metadata": {
        "id": "WwHjvM8xaQqM"
      },
      "execution_count": null,
      "outputs": []
    },
    {
      "cell_type": "markdown",
      "source": [
        "# **CNN-LSTM**"
      ],
      "metadata": {
        "id": "UdygnzfBoE8y"
      }
    },
    {
      "cell_type": "code",
      "source": [
        "from numpy import mean\n",
        "from numpy import std\n",
        "from numpy import dstack\n",
        "from pandas import read_csv\n",
        "from matplotlib import pyplot\n",
        "from keras.models import Sequential\n",
        "from keras.layers import Dense\n",
        "from keras.layers import Flatten\n",
        "from keras.layers import Dropout\n",
        "from keras.layers.convolutional import Conv1D\n",
        "from keras.layers.convolutional import MaxPooling1D\n",
        "from keras.utils import to_categorical\n"
      ],
      "metadata": {
        "id": "4RjlUnbQrX4g"
      },
      "execution_count": null,
      "outputs": []
    },
    {
      "cell_type": "code",
      "source": [
        "\n",
        "# load a single file as a numpy array\n",
        "def file_load(filepath):\n",
        "\tdataframe = read_csv(filepath, header=None, delim_whitespace=True)\n",
        "\treturn dataframe.values\n",
        "\n",
        "# load a list of files and return as a 3d numpy array\n",
        "def load_group(filenames, prefix=''):\n",
        "\tloaded = list()\n",
        "\tfor name in filenames:\n",
        "\t\tdata = file_load(prefix + name)\n",
        "\t\tloaded.append(data)\n",
        "\t# stack group so that features are the 3rd dimension\n",
        "\tloaded = dstack(loaded)\n",
        "\treturn loaded\n"
      ],
      "metadata": {
        "id": "_S__XKDsoEkp"
      },
      "execution_count": null,
      "outputs": []
    },
    {
      "cell_type": "code",
      "source": [
        "# load a dataset group, such as train or test\n",
        "def dataset_group(group, prefix=''):\n",
        "\tfilepath = prefix + group + '/Inertial Signals/'\n",
        "\t# load all 9 files as a single array\n",
        "\tfilenames = list()\n",
        "\t# total acceleration\n",
        "\tfilenames += ['total_acc_x_'+group+'.txt', 'total_acc_y_'+group+'.txt', 'total_acc_z_'+group+'.txt']\n",
        "\t# body acceleration\n",
        "\tfilenames += ['body_acc_x_'+group+'.txt', 'body_acc_y_'+group+'.txt', 'body_acc_z_'+group+'.txt']\n",
        "\t# body gyroscope\n",
        "\tfilenames += ['body_gyro_x_'+group+'.txt', 'body_gyro_y_'+group+'.txt', 'body_gyro_z_'+group+'.txt']\n",
        "\t# load input data\n",
        "\tX = load_group(filenames, filepath)\n",
        "\t# load class output\n",
        "\ty = file_load(prefix + group + '/y_'+group+'.txt')\n",
        "\treturn X, y\n",
        "\n",
        "# load the dataset, returns train and test X and y elements\n",
        "def load_dataset(prefix=''):\n",
        "\t# load all train\n",
        "\ttrainX, trainy = dataset_group('train', prefix + '/content/gdrive/MyDrive/Employee_Security_System/UCI HAR Dataset/')\n",
        "\tprint(trainX.shape, trainy.shape)\n",
        "\t# load all test\n",
        "\ttestX, testy = dataset_group('test', prefix + '/content/gdrive/MyDrive/Employee_Security_System/UCI HAR Dataset/')\n",
        "\tprint(testX.shape, testy.shape)\n",
        "\t# zero-offset class values\n",
        "\ttrainy = trainy - 1\n",
        "\ttesty = testy - 1\n",
        "\t# one hot encode y\n",
        "\ttrainy = to_categorical(trainy)\n",
        "\ttesty = to_categorical(testy)\n",
        "\tprint(trainX.shape, trainy.shape, testX.shape, testy.shape)\n",
        "\treturn trainX, trainy, testX, testy\n"
      ],
      "metadata": {
        "id": "1vRXW7jnrMXL"
      },
      "execution_count": null,
      "outputs": []
    },
    {
      "cell_type": "code",
      "source": [
        "# fit and evaluate a model\n",
        "def evaluate_model(trainX, trainy, testX, testy):\n",
        "\tverbose, epochs, batch_size = 0, 10, 32\n",
        "\tn_timesteps, n_features, n_outputs = trainX.shape[1], trainX.shape[2], trainy.shape[1]\n",
        "\tmodel = Sequential()\n",
        "\tmodel.add(Conv1D(filters=64, kernel_size=3, activation='relu', input_shape=(n_timesteps,n_features)))\n",
        "\tmodel.add(Conv1D(filters=64, kernel_size=3, activation='relu'))\n",
        "\tmodel.add(Dropout(0.5))\n",
        "\tmodel.add(MaxPooling1D(pool_size=2))\n",
        "\tmodel.add(Flatten())\n",
        "\tmodel.add(Dense(100, activation='relu'))\n",
        "\tmodel.add(Dense(n_outputs, activation='softmax'))\n",
        "\tmodel.compile(loss='categorical_crossentropy', optimizer='adam', metrics=['acc'])\n",
        "\t# fit network\n",
        "\thistory=model.fit(trainX, trainy, epochs=epochs, batch_size=batch_size, verbose=verbose)\n",
        "\t# evaluate model\n",
        "\t_, accuracy = model.evaluate(testX, testy, batch_size=batch_size, verbose=0)\n",
        "\treturn accuracy, history"
      ],
      "metadata": {
        "id": "8xtC_4EnrOGo"
      },
      "execution_count": null,
      "outputs": []
    },
    {
      "cell_type": "code",
      "source": [
        "# summarize scores\n",
        "def summarize_results(scores):\n",
        "\tprint(scores)\n",
        "\tm, s = mean(scores), std(scores)\n",
        "\tprint('Accuracy: %.3f%% (+/-%.3f)' % (m, s))\n",
        "\n",
        "# run an experiment\n",
        "def run_experiment(repeats=10):\n",
        "\t# load data\n",
        "\ttrainX, trainy, testX, testy = load_dataset()\n",
        "\t# repeat experiment\n",
        "\tscores = list()\n",
        "\tfor r in range(repeats):\n",
        "\t\tscore, history = evaluate_model(trainX, trainy, testX, testy)\n",
        "\t\tscore = score * 100.0\n",
        "\t\tprint('>#%d: %.3f' % (r+1, score))\n",
        "\t\tscores.append(score)\n",
        "\t# summarize results\n",
        "\tsummarize_results(scores)\n",
        "\thistory_dict = history.history\n",
        "\tprint(history_dict.keys())\n",
        "\treturn history\n",
        " \n",
        "\n",
        "# run the experiment\n",
        "history = run_experiment()"
      ],
      "metadata": {
        "colab": {
          "base_uri": "https://localhost:8080/"
        },
        "id": "1AJ0YhmCrP8I",
        "outputId": "eb798387-0d58-4d42-fe09-8147f7f18ab4"
      },
      "execution_count": null,
      "outputs": [
        {
          "output_type": "stream",
          "name": "stdout",
          "text": [
            "(7352, 128, 9) (7352, 1)\n",
            "(2947, 128, 9) (2947, 1)\n",
            "(7352, 128, 9) (7352, 6) (2947, 128, 9) (2947, 6)\n",
            ">#1: 92.060\n",
            ">#2: 90.465\n",
            ">#3: 90.635\n",
            ">#4: 90.397\n",
            ">#5: 89.956\n",
            ">#6: 90.227\n",
            ">#7: 91.856\n",
            ">#8: 89.243\n",
            ">#9: 92.297\n",
            ">#10: 90.906\n",
            "[92.05971956253052, 90.46487808227539, 90.63454270362854, 90.39701223373413, 89.95589017868042, 90.22734761238098, 91.85612201690674, 89.24329876899719, 92.29725003242493, 90.90600609779358]\n",
            "Accuracy: 90.804% (+/-0.934)\n",
            "dict_keys(['loss', 'acc'])\n"
          ]
        }
      ]
    },
    {
      "cell_type": "code",
      "source": [
        "history_dict = history.history\n",
        "print(history_dict.keys())"
      ],
      "metadata": {
        "colab": {
          "base_uri": "https://localhost:8080/"
        },
        "id": "ocTvABGV-BNV",
        "outputId": "66115597-ffbc-4c25-866a-c62ef7a6fe62"
      },
      "execution_count": null,
      "outputs": [
        {
          "output_type": "stream",
          "name": "stdout",
          "text": [
            "dict_keys(['loss', 'acc'])\n"
          ]
        }
      ]
    },
    {
      "cell_type": "code",
      "source": [
        "# plot the accuracy and loss\n",
        "import matplotlib.pyplot as plt\n",
        "plt.plot(history.history['acc'], label='test')\n",
        "# plt.plot(history.history['val_accuracy'], label='test')\n",
        "plt.title('Plot History: Model Accuracy')\n",
        "plt.ylabel('Accuracy')\n",
        "plt.xlabel('Epoch')\n",
        "plt.legend(['Test'], loc='upper left')\n",
        "plt.show()"
      ],
      "metadata": {
        "id": "wzJihdDqzHM0",
        "colab": {
          "base_uri": "https://localhost:8080/",
          "height": 295
        },
        "outputId": "f0a0dab2-8a3c-4054-f092-db96c7dbf39a"
      },
      "execution_count": null,
      "outputs": [
        {
          "output_type": "display_data",
          "data": {
            "text/plain": [
              "<Figure size 432x288 with 1 Axes>"
            ],
            "image/png": "[encoded data removed]"
          },
          "metadata": {
            "needs_background": "light"
          }
        }
      ]
    },
    {
      "cell_type": "code",
      "source": [
        "#history of loss\n",
        "plt.plot(history.history['loss'], label='test')\n",
        "plt.title('Plot History: Loss')\n",
        "plt.ylabel('Loss')\n",
        "plt.xlabel('Epoch')\n",
        "plt.legend(['Test'], loc='upper left')\n",
        "plt.show()"
      ],
      "metadata": {
        "colab": {
          "base_uri": "https://localhost:8080/",
          "height": 295
        },
        "id": "-_-8VeYN_8Va",
        "outputId": "f2030fab-1d43-4195-b4c9-b79bcfa2b2cf"
      },
      "execution_count": null,
      "outputs": [
        {
          "output_type": "display_data",
          "data": {
            "text/plain": [
              "<Figure size 432x288 with 1 Axes>"
            ],
            "image/png": "[encoded data removed]"
          },
          "metadata": {
            "needs_background": "light"
          }
        }
      ]
    },
    {
      "cell_type": "markdown",
      "source": [
        "| Models Trained | Accuracy Score |\n",
        "|----------------|----------------|\n",
        "|LSTM|91.48%                |\n",
        "|CNN-LSTM|90.80%               |"
      ],
      "metadata": {
        "id": "08jmruGoJOlX"
      }
    }
  ]
}